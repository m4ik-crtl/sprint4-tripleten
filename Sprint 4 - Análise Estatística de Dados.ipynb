{
 "cells": [
  {
   "cell_type": "markdown",
   "metadata": {},
   "source": [
    "Olá, Maikonm\n",
    "\n",
    "Meu nome é Ramon. Fico feliz em revisar seu projeto. Ao ao longo do texto farei algumas observações sobre melhorias no código e também farei comentários sobre suas percepções sobre o assunto. Estarei aberto a feedbacks e discussões sobre o tema.\n",
    "\n",
    "**Peço que mantenha e não altere os comentários que eu fizer por aqui para que possamos nos localizar posteriormente, ok?**\n",
    "\n",
    "Mais uma coisa, vamos utilizar um código de cores para você entender os meus feedbacks no seu notebook. Funciona assim:\n",
    "\n",
    "<div class=\"alert alert-block alert-success\">\n",
    "<b> Comentário do revisor: </b> <a class=\"tocSkip\"></a>\n",
    "\n",
    "Sucesso. Tudo foi feito corretamente.\n",
    "</div>\n",
    "\n",
    "<div class=\"alert alert-block alert-warning\">\n",
    "<b>Comentário do revisor: </b> <a class=\"tocSkip\"></a>\n",
    "\n",
    "Alerta não crítco, mas que pode ser corrigido para melhoria geral no seu código/análise\n",
    "</div>\n",
    "\n",
    "<div class=\"alert alert-block alert-danger\">\n",
    "\n",
    "<b>Comentário do revisor: </b> <a class=\"tocSkip\"></a>\n",
    "    \n",
    "Erro que precisa ser consertado, caso contrário seu projeto **não** será aceito.\n",
    "</div>\n",
    "\n",
    "Você pode me responder usando isso:\n",
    "<div class=\"alert alert-block alert-info\">\n",
    "<b>Resposta do Aluno.</b> <a class=\"tocSkip\"></a>\n",
    "</div>\n",
    "\n",
    "###\n",
    "\n",
    "<div class=\"alert alert-block alert-success\">\n",
    "<b>Comentário Geral do Revisor</b> <a class=\"tocSkip\"></a>\n",
    "\n",
    "Obrigado por enviar seu projeto. \n",
    "    \n",
    "Parabéns, você fez um bom trabalho.\n",
    "\n",
    "Como pontos fortes do projeto, destaco:\n",
    "- Código simples e eficiente (sem loop desnecessário)\n",
    "- Uso adequado dos recursos da lição\n",
    "\n",
    "    \n",
    "<span class=\"text-danger\">Porém, há espaço para melhorias conforme os itens apontados anteriormente. Destaco os  pontos a seguir: </span>\n",
    " * <span class=\"text-danger\"> Ajustar teste de hipótese. </span>\n",
    "\n",
    "\n",
    "Portanto, sugiro que você corrija os pontos indicados.\n",
    "    \n",
    "Se você tiver alguma dúvida sobre de algo que você não tenha entendido, sinta-se à vontade para perguntar ao tutor ou deixar um comentário em **azul** para que, na próxima iteração, eu possa responder.\n",
    "\n",
    "Conte conosco. Lembre-se de que você pode tirar dúvidas com revisores usando os comentários ou buscar ajuda de um tutor.\n",
    "Bom trabalho.\n",
    "</div>\n",
    "\n",
    "###\n",
    "\n",
    "<div class=\"alert alert-block alert-info\">\n",
    "<b>Resposta do Aluno.</b> <a class=\"tocSkip\"></a>\n",
    "</div>\n",
    "\n",
    "Olá Ramon, obrigado pela análise de meu projeto!\n",
    "\n",
    "Ajustes feitos, me avise se precisar de mais alguma alteração\n"
   ]
  },
  {
   "cell_type": "markdown",
   "metadata": {},
   "source": [
    "<div class=\"alert alert-block alert-success\">\n",
    "<b> Comentário Geral do Revisor Final: </b> <a class=\"tocSkip\"></a>\n",
    "\n",
    "Tudo certo agora. Desejo sucesso na jornada. Parabéns pelo empenho.\n",
    "</div>\n"
   ]
  },
  {
   "cell_type": "markdown",
   "metadata": {
    "id": "eAkbw7Ueuj8X"
   },
   "source": [
    "# Qual é o melhor plano?\n",
    "\n",
    "Você trabalha como analista para a empresa de telecomunicações Megaline. A empresa oferece aos clientes dois planos pré-pagos: Surf e Ultimate. O departamento comercial quer saber qual dos planos gera mais receita para ajustar o orçamento de publicidade.\n",
    "\n",
    "Você vai realizar uma análise preliminar dos planos com base em uma pequena seleção de clientes. Você terá dados de 500 clientes da Megaline: que clientes são, de onde eles são, qual plano usam e o número de chamadas e mensagens realizadas em 2018. Seu trabalho é analisar o comportamento dos clientes e determinar qual plano pré-pago gera mais receita."
   ]
  },
  {
   "cell_type": "markdown",
   "metadata": {
    "id": "Z_iOKMX_uj8a"
   },
   "source": [
    "[Fornecemos alguns comentários para guiar sua linha de raciocínio enquanto você trabalha neste projeto. Entretanto, certifique-se de remover todos os comentários entre colchetes antes de enviar o projeto.]\n",
    "\n",
    "[Antes de começar a análise dos dados, explique com suas próprias palavras o propósito do projeto e as ações que planeja realizar.]\n",
    "\n",
    "[Tenha em mente que estudar, modificar e analisar dados é um processo iterativo. É normal retornar a etapas anteriores e corrigir/expandir algo para permitir as próximas etapas.]"
   ]
  },
  {
   "cell_type": "markdown",
   "metadata": {
    "id": "lnomf-3Xuj8b"
   },
   "source": [
    "## Inicialização"
   ]
  },
  {
   "cell_type": "code",
   "execution_count": 1,
   "metadata": {
    "id": "JdJusn5ouj8c"
   },
   "outputs": [],
   "source": [
    "# Carregando todas as bibliotecas\n",
    "import pandas as pd\n",
    "import seaborn as sns\n",
    "import numpy as np\n",
    "from scipy import stats as st\n",
    "import math as mt\n",
    "import matplotlib.pyplot as plt\n",
    "from scipy.stats import ttest_ind\n"
   ]
  },
  {
   "cell_type": "markdown",
   "metadata": {
    "id": "rzqsCrgquj8d"
   },
   "source": [
    "## Carregue os dados"
   ]
  },
  {
   "cell_type": "code",
   "execution_count": 2,
   "metadata": {
    "id": "HmzmQRXIuj8e"
   },
   "outputs": [],
   "source": [
    "# Carregue os arquivos de dados em diferentes DataFrames\n",
    "\n",
    "users = pd.read_csv(\"/datasets/megaline_users.csv\", sep=\",\")\n",
    "plans = pd.read_csv(\"/datasets/megaline_plans.csv\", sep=\",\")\n",
    "messages = pd.read_csv(\"/datasets/megaline_messages.csv\", sep=\",\")\n",
    "internet = pd.read_csv(\"/datasets/megaline_internet.csv\", sep=\",\")\n",
    "calls = pd.read_csv(\"/datasets/megaline_calls.csv\", sep=\",\")\n"
   ]
  },
  {
   "cell_type": "markdown",
   "metadata": {
    "id": "XQh-EeiIuj8e"
   },
   "source": [
    "## Prepare os dados"
   ]
  },
  {
   "cell_type": "markdown",
   "metadata": {
    "id": "RmibJmmzuj8e"
   },
   "source": [
    "[Os dados deste projeto estão divididos em várias tabelas. Explore cada uma para obter uma compreensão inicial dos dados. Faça correções em cada tabela, se necessário.]"
   ]
  },
  {
   "cell_type": "markdown",
   "metadata": {
    "id": "TlZUw_Cyuj8f"
   },
   "source": [
    "## Planos"
   ]
  },
  {
   "cell_type": "code",
   "execution_count": 3,
   "metadata": {
    "id": "x9qB5mAOuj8f"
   },
   "outputs": [
    {
     "name": "stdout",
     "output_type": "stream",
     "text": [
      "Informações Gerais - Plans:\n",
      "<class 'pandas.core.frame.DataFrame'>\n",
      "RangeIndex: 137735 entries, 0 to 137734\n",
      "Data columns (total 4 columns):\n",
      " #   Column     Non-Null Count   Dtype  \n",
      "---  ------     --------------   -----  \n",
      " 0   id         137735 non-null  object \n",
      " 1   user_id    137735 non-null  int64  \n",
      " 2   call_date  137735 non-null  object \n",
      " 3   duration   137735 non-null  float64\n",
      "dtypes: float64(1), int64(1), object(2)\n",
      "memory usage: 4.2+ MB\n",
      "None\n"
     ]
    }
   ],
   "source": [
    "# Imprima informações gerais/resumo sobre o DataFrame dos planos\n",
    "print(\"Informações Gerais - Plans:\")\n",
    "print(calls.info())\n"
   ]
  },
  {
   "cell_type": "code",
   "execution_count": 4,
   "metadata": {
    "id": "9MRo7tyVuj8f",
    "scrolled": true
   },
   "outputs": [
    {
     "name": "stdout",
     "output_type": "stream",
     "text": [
      "Amostra de dados - Plans:\n",
      "              id  user_id   call_date  duration\n",
      "16009   1062_249     1062  2018-05-14      3.20\n",
      "30996   1116_226     1116  2018-08-19     14.01\n",
      "71042   1252_508     1252  2018-09-08     12.44\n",
      "49740    1180_97     1180  2018-12-11      3.01\n",
      "105604   1373_84     1373  2018-12-21      7.50\n",
      "84888   1312_380     1312  2018-03-23     10.13\n",
      "46060   1167_143     1167  2018-12-07     14.51\n",
      "1777    1009_199     1009  2018-09-11      2.35\n",
      "102441   1363_54     1363  2018-12-02      0.00\n",
      "65872    1238_83     1238  2018-11-12     16.06\n"
     ]
    }
   ],
   "source": [
    "# Imprima uma amostra de dados dos planos\n",
    "print(\"Amostra de dados - Plans:\")\n",
    "print(calls.sample(10))\n"
   ]
  },
  {
   "cell_type": "markdown",
   "metadata": {
    "id": "P8hzr-lquj8f"
   },
   "source": [
    "[Descreva o que você nota sobre as informações gerais e sobre a amostra de dados impressa acima. Existem problemas (tipos de dados inadequados, dados ausentes, etc.) que precisam de mais investigação e alterações? Como isso pode ser corrigido?]\n",
    "\n",
    "Conclusões\n",
    "\n",
    "Ao analisar as informações do DataFrame podemos observar: \n",
    "\n",
    " -Registros: 137.735\n",
    "\n",
    " -Sem valores ausentes\n",
    "\n",
    " -call_date está como texto → precisa ser convertido para datetime.\n",
    "\n",
    " -Chamadas com duração 0.00 → podem indicar tentativas não atendidas. Avaliar se devem ser removidas.\n",
    "\n",
    " -id parece composto (user_id + código) "
   ]
  },
  {
   "cell_type": "markdown",
   "metadata": {
    "id": "KXtaxmKsuj8f"
   },
   "source": [
    "## Corrija os dados"
   ]
  },
  {
   "cell_type": "markdown",
   "metadata": {
    "id": "9BWuM80Buj8f"
   },
   "source": [
    "[Corrija problemas óbvios com os dados conforme as observações iniciais.]"
   ]
  },
  {
   "cell_type": "code",
   "execution_count": 5,
   "metadata": {
    "id": "Hen8bhG1uj8g"
   },
   "outputs": [],
   "source": [
    "calls['call_date'] = pd.to_datetime(calls['call_date'])\n",
    "\n"
   ]
  },
  {
   "cell_type": "markdown",
   "metadata": {
    "id": "kLcdKu6Duj8g"
   },
   "source": [
    "## Enriqueça os dados"
   ]
  },
  {
   "cell_type": "markdown",
   "metadata": {
    "id": "x1L6F_gmuj8g"
   },
   "source": [
    "[Inclua fatores adicionais aos dados se você acredita que eles podem ser úteis.]"
   ]
  },
  {
   "cell_type": "code",
   "execution_count": 6,
   "metadata": {
    "id": "6j4XA9_ruj8g"
   },
   "outputs": [],
   "source": [
    "calls = calls[calls['duration'] > 0]"
   ]
  },
  {
   "cell_type": "markdown",
   "metadata": {
    "id": "YJg2O9qjuj8g"
   },
   "source": [
    "## Usuários"
   ]
  },
  {
   "cell_type": "code",
   "execution_count": 7,
   "metadata": {
    "id": "7JzxwD2juj8g"
   },
   "outputs": [
    {
     "name": "stdout",
     "output_type": "stream",
     "text": [
      "Informações Gerais - Users:\n",
      "<class 'pandas.core.frame.DataFrame'>\n",
      "RangeIndex: 500 entries, 0 to 499\n",
      "Data columns (total 8 columns):\n",
      " #   Column      Non-Null Count  Dtype \n",
      "---  ------      --------------  ----- \n",
      " 0   user_id     500 non-null    int64 \n",
      " 1   first_name  500 non-null    object\n",
      " 2   last_name   500 non-null    object\n",
      " 3   age         500 non-null    int64 \n",
      " 4   city        500 non-null    object\n",
      " 5   reg_date    500 non-null    object\n",
      " 6   plan        500 non-null    object\n",
      " 7   churn_date  34 non-null     object\n",
      "dtypes: int64(2), object(6)\n",
      "memory usage: 31.4+ KB\n",
      "None\n"
     ]
    }
   ],
   "source": [
    "# Imprima informações gerais/resumo sobre o DataFrame dos usuários\n",
    "print(\"Informações Gerais - Users:\")\n",
    "print(users.info())\n"
   ]
  },
  {
   "cell_type": "code",
   "execution_count": 8,
   "metadata": {
    "id": "5KZ8XmD8uj8g"
   },
   "outputs": [
    {
     "name": "stdout",
     "output_type": "stream",
     "text": [
      "Amostra de dados - Users:\n",
      "     user_id first_name   last_name  age  \\\n",
      "248     1248     Leigha      Dawson   35   \n",
      "190     1190       Troy  Hutchinson   56   \n",
      "10      1010     Wilber       Blair   52   \n",
      "364     1364    Clarine      Bonner   75   \n",
      "231     1231    Gaylord        Witt   57   \n",
      "425     1425   Latrisha      Larsen   19   \n",
      "143     1143     Lorina     Stevens   69   \n",
      "183     1183   Jermaine    Gallegos   71   \n",
      "476     1476    Tammara      Dorsey   24   \n",
      "157     1157    Luciano    Sheppard   63   \n",
      "\n",
      "                                                 city    reg_date      plan  \\\n",
      "248  Nashville-Davidson–Murfreesboro–Franklin, TN MSA  2018-11-01      surf   \n",
      "190    Virginia Beach-Norfolk-Newport News, VA-NC MSA  2018-08-01  ultimate   \n",
      "10                Dallas-Fort Worth-Arlington, TX MSA  2018-03-09      surf   \n",
      "364            San Diego-Chula Vista-Carlsbad, CA MSA  2018-08-09      surf   \n",
      "231            San Jose-Sunnyvale-Santa Clara, CA MSA  2018-01-19  ultimate   \n",
      "425              Las Vegas-Henderson-Paradise, NV MSA  2018-09-20      surf   \n",
      "143                          Cincinnati, OH-KY-IN MSA  2018-10-26      surf   \n",
      "183            Chicago-Naperville-Elgin, IL-IN-WI MSA  2018-07-20      surf   \n",
      "476            Los Angeles-Long Beach-Anaheim, CA MSA  2018-06-10  ultimate   \n",
      "157            Los Angeles-Long Beach-Anaheim, CA MSA  2018-07-02      surf   \n",
      "\n",
      "    churn_date  \n",
      "248        NaN  \n",
      "190        NaN  \n",
      "10         NaN  \n",
      "364        NaN  \n",
      "231        NaN  \n",
      "425        NaN  \n",
      "143        NaN  \n",
      "183        NaN  \n",
      "476        NaN  \n",
      "157        NaN  \n"
     ]
    }
   ],
   "source": [
    "# Imprima uma amostra de dados dos usuários\n",
    "print(\"Amostra de dados - Users:\")\n",
    "print(users.sample(10))\n"
   ]
  },
  {
   "cell_type": "markdown",
   "metadata": {
    "id": "XGCgkfLvuj8h"
   },
   "source": [
    "[Descreva o que você nota sobre as informações gerais e sobre a amostra de dados impressa acima. Existem problemas (tipos de dados inadequados, dados ausentes, etc.) que precisam de mais investigação e alterações? Como isso pode ser corrigido?]\n",
    "\n",
    "Podemos obsersar: \n",
    "\n",
    "-Total de registros: 500\n",
    "\n",
    "-Sem valores ausentes exceto na coluna churn_date\n",
    "\n",
    "-Apenas 34 usuários têm data de cancelamento (os demais encontram-se ativos)\n",
    "\n",
    "-Colunas reg_date e churn_date estão como object → devem ser convertidas para datetime\n"
   ]
  },
  {
   "cell_type": "markdown",
   "metadata": {
    "id": "ppiEfe3luj8i"
   },
   "source": [
    "### Corrija os dados"
   ]
  },
  {
   "cell_type": "markdown",
   "metadata": {
    "id": "os4Gubp_uj8j"
   },
   "source": [
    "[Corrija problemas óbvios com os dados conforme as observações iniciais.]"
   ]
  },
  {
   "cell_type": "code",
   "execution_count": 9,
   "metadata": {
    "id": "Oa1XFooouj8j"
   },
   "outputs": [],
   "source": [
    "# Converter datas para datetime\n",
    "users['reg_date'] = pd.to_datetime(users['reg_date'])\n",
    "users['churn_date'] = pd.to_datetime(users['churn_date'])\n"
   ]
  },
  {
   "cell_type": "markdown",
   "metadata": {
    "id": "H3gpde3Juj8j"
   },
   "source": [
    "### Enriqueça os dados"
   ]
  },
  {
   "cell_type": "markdown",
   "metadata": {
    "id": "HOZyfII6uj8j"
   },
   "source": [
    "[Inclua fatores adicionais aos dados se você acredita que eles podem ser úteis.]"
   ]
  },
  {
   "cell_type": "code",
   "execution_count": 10,
   "metadata": {
    "id": "4vuUjT2juj8j"
   },
   "outputs": [],
   "source": [
    "# Calcular o tempo de vida do usuário\n",
    "users['account_age_days'] = (pd.to_datetime('today') - users['reg_date']).dt.days\n",
    "\n",
    "# Criar o status de churn\n",
    "users['churn_status'] = np.where(users['churn_date'].isnull(), 'Active', 'Churned')\n"
   ]
  },
  {
   "cell_type": "markdown",
   "metadata": {
    "id": "f4uSIMuuuj8j"
   },
   "source": [
    "## Chamadas"
   ]
  },
  {
   "cell_type": "code",
   "execution_count": 11,
   "metadata": {
    "id": "hkY01fJnuj8j"
   },
   "outputs": [
    {
     "name": "stdout",
     "output_type": "stream",
     "text": [
      "Informações Gerais - Calls:\n",
      "<class 'pandas.core.frame.DataFrame'>\n",
      "Int64Index: 110901 entries, 0 to 137734\n",
      "Data columns (total 4 columns):\n",
      " #   Column     Non-Null Count   Dtype         \n",
      "---  ------     --------------   -----         \n",
      " 0   id         110901 non-null  object        \n",
      " 1   user_id    110901 non-null  int64         \n",
      " 2   call_date  110901 non-null  datetime64[ns]\n",
      " 3   duration   110901 non-null  float64       \n",
      "dtypes: datetime64[ns](1), float64(1), int64(1), object(1)\n",
      "memory usage: 4.2+ MB\n",
      "None\n"
     ]
    }
   ],
   "source": [
    "# Imprima informações gerais/resumo sobre o DataFrame das chamadas\n",
    "print(\"Informações Gerais - Calls:\")\n",
    "print(calls.info())\n"
   ]
  },
  {
   "cell_type": "code",
   "execution_count": 12,
   "metadata": {
    "id": "wdBwJG5Yuj8k"
   },
   "outputs": [
    {
     "name": "stdout",
     "output_type": "stream",
     "text": [
      "Amostra de dados - Calls:\n",
      "              id  user_id  call_date  duration\n",
      "112219  1394_144     1394 2018-12-12     14.37\n",
      "129805   1467_41     1467 2018-09-28      5.62\n",
      "129801   1467_37     1467 2018-07-03     22.75\n",
      "9441    1042_372     1042 2018-11-07     19.33\n",
      "57259    1205_20     1205 2018-12-26      7.57\n",
      "3512    1011_365     1011 2018-10-11     10.78\n",
      "23986   1090_161     1090 2018-08-25      8.06\n",
      "55890   1200_144     1200 2018-12-23      6.48\n",
      "99922   1358_318     1358 2018-11-24     19.03\n",
      "101317   1362_53     1362 2018-09-02      3.79\n"
     ]
    }
   ],
   "source": [
    "# Imprima uma amostra de dados das chamadas\n",
    "print(\"Amostra de dados - Calls:\")\n",
    "print(calls.sample(10))\n"
   ]
  },
  {
   "cell_type": "markdown",
   "metadata": {
    "id": "Y8An85-Tuj8k"
   },
   "source": [
    "[Descreva o que você nota sobre as informações gerais e sobre a amostra de dados impressa acima. Existem problemas (tipos de dados inadequados, dados ausentes, etc.) que precisam de mais investigação e alterações? Como isso pode ser corrigido?]"
   ]
  },
  {
   "cell_type": "markdown",
   "metadata": {
    "id": "x5a99U4xuj8k"
   },
   "source": [
    "### Corrija os dados"
   ]
  },
  {
   "cell_type": "markdown",
   "metadata": {
    "id": "MQqkU83Xuj8k"
   },
   "source": [
    "[Corrija problemas óbvios com os dados conforme as observações iniciais.]"
   ]
  },
  {
   "cell_type": "code",
   "execution_count": 13,
   "metadata": {
    "id": "lBjdw0Bnuj8l"
   },
   "outputs": [],
   "source": [
    "calls['call_date'] = pd.to_datetime(calls['call_date'])\n"
   ]
  },
  {
   "cell_type": "markdown",
   "metadata": {
    "id": "MFm5xyh4uj8l"
   },
   "source": [
    "### Enriqueça os dados"
   ]
  },
  {
   "cell_type": "markdown",
   "metadata": {
    "id": "Udv2togruj8l"
   },
   "source": [
    "[Inclua fatores adicionais aos dados se você acredita que eles podem ser úteis.]"
   ]
  },
  {
   "cell_type": "code",
   "execution_count": 14,
   "metadata": {
    "id": "nwOKTgfluj8l"
   },
   "outputs": [],
   "source": [
    "# Calcular o total de chamadas por usuário\n",
    "total_calls_per_user = calls.groupby('user_id').size().reset_index(name='total_calls')\n",
    "# Calcular a duração total das chamadas por usuário\n",
    "total_duration_per_user = calls.groupby('user_id')['duration'].sum().reset_index(name='total_duration')\n",
    "# Calcular a média de duração por chamada por usuário\n",
    "avg_duration_per_user = calls.groupby('user_id')['duration'].mean().reset_index(name='avg_duration')\n",
    "\n",
    "\n",
    "# Unir os dados de total de chamadas, duração total e média com o DataFrame de usuários\n",
    "users = users.merge(total_calls_per_user, on='user_id', how='left')\n",
    "users = users.merge(total_duration_per_user, on='user_id', how='left')\n",
    "users = users.merge(avg_duration_per_user, on='user_id', how='left')\n"
   ]
  },
  {
   "cell_type": "markdown",
   "metadata": {
    "id": "qLz4FkyRuj8l"
   },
   "source": [
    "## Mensagens"
   ]
  },
  {
   "cell_type": "code",
   "execution_count": 15,
   "metadata": {
    "id": "nFA9DFkCuj8l"
   },
   "outputs": [
    {
     "name": "stdout",
     "output_type": "stream",
     "text": [
      "Informações Gerais - Messages:\n",
      "<class 'pandas.core.frame.DataFrame'>\n",
      "RangeIndex: 76051 entries, 0 to 76050\n",
      "Data columns (total 3 columns):\n",
      " #   Column        Non-Null Count  Dtype \n",
      "---  ------        --------------  ----- \n",
      " 0   id            76051 non-null  object\n",
      " 1   user_id       76051 non-null  int64 \n",
      " 2   message_date  76051 non-null  object\n",
      "dtypes: int64(1), object(2)\n",
      "memory usage: 1.7+ MB\n",
      "None\n"
     ]
    }
   ],
   "source": [
    "# Imprima informações gerais/resumo sobre o DataFrame das mensagens\n",
    "print(\"Informações Gerais - Messages:\")\n",
    "print(messages.info())\n"
   ]
  },
  {
   "cell_type": "code",
   "execution_count": 16,
   "metadata": {
    "id": "ysEFBZWxuj8m"
   },
   "outputs": [
    {
     "name": "stdout",
     "output_type": "stream",
     "text": [
      "Amostra de dados - Messages:\n",
      "             id  user_id message_date\n",
      "27644  1172_101     1172   2018-12-07\n",
      "2862    1029_11     1029   2018-08-30\n",
      "66435  1433_375     1433   2018-11-30\n",
      "38150  1251_202     1251   2018-03-30\n",
      "25510   1154_93     1154   2018-12-24\n",
      "56954   1362_19     1362   2018-05-15\n",
      "66994   1435_32     1435   2018-12-24\n",
      "2937    1031_10     1031   2018-10-28\n",
      "22232  1133_153     1133   2018-11-27\n",
      "59538   1379_15     1379   2018-12-08\n"
     ]
    }
   ],
   "source": [
    "# Imprima uma amostra dos dados das mensagens\n",
    "print(\"Amostra de dados - Messages:\")\n",
    "print(messages.sample(10))\n"
   ]
  },
  {
   "cell_type": "markdown",
   "metadata": {
    "id": "GUtt1TqCuj8m"
   },
   "source": [
    "[Descreva o que você nota sobre as informações gerais e sobre a amostra de dados impressa acima. Existem problemas (tipos de dados inadequados, dados ausentes, etc.) que precisam de mais investigação e alterações? Como isso pode ser corrigido?]"
   ]
  },
  {
   "cell_type": "markdown",
   "metadata": {
    "id": "tT8N_hc6uj8m"
   },
   "source": [
    "### Corrija os dados"
   ]
  },
  {
   "cell_type": "markdown",
   "metadata": {
    "id": "IgO0SzXKuj8m"
   },
   "source": [
    "[Corrija problemas óbvios com os dados conforme as observações iniciais.]"
   ]
  },
  {
   "cell_type": "code",
   "execution_count": 17,
   "metadata": {
    "id": "SpBqbQHCuj8m"
   },
   "outputs": [],
   "source": [
    "messages['message_date'] = pd.to_datetime(messages['message_date'])"
   ]
  },
  {
   "cell_type": "markdown",
   "metadata": {
    "id": "feV2Njo9uj8n"
   },
   "source": [
    "### Enriqueça os dados"
   ]
  },
  {
   "cell_type": "markdown",
   "metadata": {
    "id": "KA5XDEoZuj8n"
   },
   "source": [
    "[Inclua fatores adicionais aos dados se você acredita que eles podem ser úteis.]"
   ]
  },
  {
   "cell_type": "code",
   "execution_count": 18,
   "metadata": {
    "id": "SkuCXcLJuj8n"
   },
   "outputs": [],
   "source": [
    "# Calcular o total de mensagens enviadas por usuário\n",
    "total_messages_per_user = messages.groupby('user_id').size().reset_index(name='total_messages')\n",
    "# Calcular a data da primeira mensagem enviada por usuário\n",
    "first_message_per_user = messages.groupby('user_id')['message_date'].min().reset_index(name='first_message_date')\n",
    "# Calcular a data da última mensagem enviada por usuário\n",
    "last_message_per_user = messages.groupby('user_id')['message_date'].max().reset_index(name='last_message_date')\n",
    "\n",
    "# Unir os dados de total de mensagens, primeira e última mensagem com o DataFrame de usuários\n",
    "users = users.merge(total_messages_per_user, on='user_id', how='left')\n",
    "users = users.merge(first_message_per_user, on='user_id', how='left')\n",
    "users = users.merge(last_message_per_user, on='user_id', how='left')\n"
   ]
  },
  {
   "cell_type": "markdown",
   "metadata": {
    "id": "ZRFaOWzGuj8n"
   },
   "source": [
    "## Internet"
   ]
  },
  {
   "cell_type": "code",
   "execution_count": 19,
   "metadata": {
    "id": "ob3-qv4nuj8n"
   },
   "outputs": [
    {
     "name": "stdout",
     "output_type": "stream",
     "text": [
      "Informações Gerais - Internet:\n",
      "<class 'pandas.core.frame.DataFrame'>\n",
      "RangeIndex: 104825 entries, 0 to 104824\n",
      "Data columns (total 4 columns):\n",
      " #   Column        Non-Null Count   Dtype  \n",
      "---  ------        --------------   -----  \n",
      " 0   id            104825 non-null  object \n",
      " 1   user_id       104825 non-null  int64  \n",
      " 2   session_date  104825 non-null  object \n",
      " 3   mb_used       104825 non-null  float64\n",
      "dtypes: float64(1), int64(1), object(2)\n",
      "memory usage: 3.2+ MB\n",
      "None\n"
     ]
    }
   ],
   "source": [
    "# Imprima informações gerais/resumo sobre o DataFrame da internet\n",
    "print(\"Informações Gerais - Internet:\")\n",
    "print(internet.info())\n"
   ]
  },
  {
   "cell_type": "code",
   "execution_count": 20,
   "metadata": {
    "id": "iIHK4fZsuj8n"
   },
   "outputs": [
    {
     "name": "stdout",
     "output_type": "stream",
     "text": [
      "Amostra de dados - Internet:\n",
      "              id  user_id session_date  mb_used\n",
      "72705   1338_105     1338   2018-11-17   256.70\n",
      "81918   1384_124     1384   2018-11-17    94.15\n",
      "46885   1209_107     1209   2018-09-11   718.69\n",
      "103392  1494_274     1494   2018-08-24   307.35\n",
      "69712   1325_114     1325   2018-12-26   535.36\n",
      "86879   1403_227     1403   2018-07-08    47.34\n",
      "59648   1268_317     1268   2018-07-03   211.19\n",
      "61390     1279_4     1279   2018-11-11   535.26\n",
      "71878   1335_117     1335   2018-07-07  1144.95\n",
      "86981   1403_329     1403   2018-07-19   266.26\n"
     ]
    }
   ],
   "source": [
    "#  Imprima uma amostra de dados para o tráfego da internet\n",
    "print(\"Amostra de dados - Internet:\")\n",
    "print(internet.sample(10))\n"
   ]
  },
  {
   "cell_type": "markdown",
   "metadata": {
    "id": "6wpo7ugquj8o"
   },
   "source": [
    "[Descreva o que você nota sobre as informações gerais e sobre a amostra de dados impressa acima. Existem problemas (tipos de dados inadequados, dados ausentes, etc.) que precisam de mais investigação e alterações? Como isso pode ser corrigido?]"
   ]
  },
  {
   "cell_type": "markdown",
   "metadata": {
    "id": "Tly90YrTuj8o"
   },
   "source": [
    "### Corrija os dados"
   ]
  },
  {
   "cell_type": "markdown",
   "metadata": {
    "id": "F_yvcX-9uj8o"
   },
   "source": [
    "[Corrija problemas óbvios com os dados conforme as observações iniciais.]"
   ]
  },
  {
   "cell_type": "code",
   "execution_count": 21,
   "metadata": {
    "id": "GCoX7kbmuj8o"
   },
   "outputs": [],
   "source": [
    "internet['session_date'] = pd.to_datetime(internet['session_date'])\n"
   ]
  },
  {
   "cell_type": "markdown",
   "metadata": {
    "id": "DEDbrtFduj8o"
   },
   "source": [
    "### Enriqueça os dados"
   ]
  },
  {
   "cell_type": "markdown",
   "metadata": {
    "id": "ilg-XzXpuj8p"
   },
   "source": [
    "[Inclua fatores adicionais aos dados se você acredita que eles podem ser úteis.]"
   ]
  },
  {
   "cell_type": "code",
   "execution_count": 22,
   "metadata": {
    "id": "f1PoZ3Ukuj8p"
   },
   "outputs": [],
   "source": [
    "# Calcular o total de MB usados por usuário\n",
    "total_mb_per_user = internet.groupby('user_id')['mb_used'].sum().reset_index(name='total_mb_used')\n",
    "\n",
    "# Calcular o número de sessões de internet por usuário\n",
    "total_sessions_per_user = internet.groupby('user_id').size().reset_index(name='total_sessions')\n",
    "\n",
    "# Calcular a data da primeira sessão de internet de cada usuário\n",
    "first_session_per_user = internet.groupby('user_id')['session_date'].min().reset_index(name='first_session_date')\n",
    "\n",
    "# Calcular a data da última sessão de internet de cada usuário\n",
    "last_session_per_user = internet.groupby('user_id')['session_date'].max().reset_index(name='last_session_date')\n",
    "\n",
    "# Unir os dados de total de MB usados, número de sessões, primeira e última sessão com o DataFrame de usuários\n",
    "users = users.merge(total_mb_per_user, on='user_id', how='left')\n",
    "users = users.merge(total_sessions_per_user, on='user_id', how='left')\n",
    "users = users.merge(first_session_per_user, on='user_id', how='left')\n",
    "users = users.merge(last_session_per_user, on='user_id', how='left')\n"
   ]
  },
  {
   "cell_type": "markdown",
   "metadata": {
    "id": "bnOX4ARJuj8p"
   },
   "source": [
    "## Estude as condições dos planos"
   ]
  },
  {
   "cell_type": "markdown",
   "metadata": {
    "id": "vMu9_L8quj8p"
   },
   "source": [
    "[É fundamental entender como os planos funcionam, ou seja, como as cobranças dos usuários são feitas com base na assinatura. Sugerimos imprimir as informações sobre os planos para visualizar novamente as condições.]"
   ]
  },
  {
   "cell_type": "code",
   "execution_count": 23,
   "metadata": {
    "id": "vMXVndWEuj8p"
   },
   "outputs": [
    {
     "name": "stdout",
     "output_type": "stream",
     "text": [
      "   messages_included  mb_per_month_included  minutes_included  \\\n",
      "0                 50                  15360               500   \n",
      "1               1000                  30720              3000   \n",
      "\n",
      "   usd_monthly_pay  usd_per_gb  usd_per_message  usd_per_minute plan_name  \n",
      "0               20          10             0.03            0.03      surf  \n",
      "1               70           7             0.01            0.01  ultimate  \n"
     ]
    }
   ],
   "source": [
    "# Imprima as condições dos planos e certifique-se de que elas fazem sentido para você\n",
    "print(plans)\n"
   ]
  },
  {
   "cell_type": "markdown",
   "metadata": {
    "id": "1v1EshDmuj8q"
   },
   "source": [
    "## Agregue os dados por usuário\n",
    "\n",
    "[Agora, como os dados estão limpos, os agregue por usuário e por período para ter apenas um registro dessas informações. Isso vai facilitar muito as próximas análises.]"
   ]
  },
  {
   "cell_type": "code",
   "execution_count": 24,
   "metadata": {
    "id": "4hmb2pSPuj8q"
   },
   "outputs": [
    {
     "name": "stdout",
     "output_type": "stream",
     "text": [
      "      user_id  month  calls_total  minutes_total\n",
      "0        1000     12           16         116.83\n",
      "1        1001      8           22         171.14\n",
      "2        1001      9           38         297.69\n",
      "3        1001     10           47         374.11\n",
      "4        1001     11           49         404.59\n",
      "...       ...    ...          ...            ...\n",
      "2251     1498     12           32         324.77\n",
      "2252     1499      9           35         330.37\n",
      "2253     1499     10           41         363.28\n",
      "2254     1499     11           39         288.56\n",
      "2255     1499     12           56         468.10\n",
      "\n",
      "[2256 rows x 4 columns]\n"
     ]
    }
   ],
   "source": [
    "# Calcular o número de chamadas feitas por cada usuário por mês\n",
    "calls['month'] = calls['call_date'].dt.month\n",
    "calls_grouped = calls.groupby(['user_id', 'month']).agg(\n",
    "    calls_total=('duration', 'count'),\n",
    "    minutes_total=('duration', 'sum')\n",
    ").reset_index()\n",
    "\n",
    "# Exibir o resultado\n",
    "print(calls_grouped)\n"
   ]
  },
  {
   "cell_type": "code",
   "execution_count": 25,
   "metadata": {
    "id": "yHgBWCJJuj8q"
   },
   "outputs": [
    {
     "name": "stdout",
     "output_type": "stream",
     "text": [
      "      user_id  month  minutes_total\n",
      "0        1000     12         116.83\n",
      "1        1001      8         171.14\n",
      "2        1001      9         297.69\n",
      "3        1001     10         374.11\n",
      "4        1001     11         404.59\n",
      "...       ...    ...            ...\n",
      "2251     1498     12         324.77\n",
      "2252     1499      9         330.37\n",
      "2253     1499     10         363.28\n",
      "2254     1499     11         288.56\n",
      "2255     1499     12         468.10\n",
      "\n",
      "[2256 rows x 3 columns]\n"
     ]
    }
   ],
   "source": [
    "# Calcular a quantidade de minutos gastos por cada usuário por mês\n",
    "calls['month'] = calls['call_date'].dt.month\n",
    "\n",
    "minutes_grouped = calls.groupby(['user_id', 'month'])['duration'].sum().reset_index(name='minutes_total')\n",
    "\n",
    "# Exibir o resultado\n",
    "print(minutes_grouped)\n",
    "\n",
    "\n"
   ]
  },
  {
   "cell_type": "code",
   "execution_count": 26,
   "metadata": {
    "id": "MaM_cPxauj8q"
   },
   "outputs": [
    {
     "name": "stdout",
     "output_type": "stream",
     "text": [
      "      user_id  month  messages_total\n",
      "0        1000     12              11\n",
      "1        1001      8              30\n",
      "2        1001      9              44\n",
      "3        1001     10              53\n",
      "4        1001     11              36\n",
      "...       ...    ...             ...\n",
      "1801     1496      9              21\n",
      "1802     1496     10              18\n",
      "1803     1496     11              13\n",
      "1804     1496     12              11\n",
      "1805     1497     12              50\n",
      "\n",
      "[1806 rows x 3 columns]\n"
     ]
    }
   ],
   "source": [
    "# Calcular o número de mensagens enviadas por cada usuário por mês\n",
    "messages['month'] = messages['message_date'].dt.month\n",
    "\n",
    "messages_grouped = messages.groupby(['user_id', 'month']).size().reset_index(name='messages_total')\n",
    "\n",
    "# Exibir o resultado\n",
    "print(messages_grouped)\n",
    "\n"
   ]
  },
  {
   "cell_type": "code",
   "execution_count": 27,
   "metadata": {
    "id": "WsCEZJ_xuj8q"
   },
   "outputs": [
    {
     "name": "stdout",
     "output_type": "stream",
     "text": [
      "      user_id  month  mb_total\n",
      "0        1000     12   1901.47\n",
      "1        1001      8   6919.15\n",
      "2        1001      9  13314.82\n",
      "3        1001     10  22330.49\n",
      "4        1001     11  18504.30\n",
      "...       ...    ...       ...\n",
      "2272     1498     12  23137.69\n",
      "2273     1499      9  12984.76\n",
      "2274     1499     10  19492.43\n",
      "2275     1499     11  16813.83\n",
      "2276     1499     12  22059.21\n",
      "\n",
      "[2277 rows x 3 columns]\n"
     ]
    }
   ],
   "source": [
    "# Calcular o volume de tráfego de internet usado por cada usuário por mês\n",
    "internet['month'] = internet['session_date'].dt.month\n",
    "\n",
    "internet_grouped = internet.groupby(['user_id', 'month']).agg(\n",
    "    mb_total=('mb_used', 'sum')\n",
    ").reset_index()\n",
    "\n",
    "# Exibir o resultado\n",
    "print(internet_grouped)\n",
    "\n"
   ]
  },
  {
   "cell_type": "markdown",
   "metadata": {
    "id": "6nBsD4hduj8q"
   },
   "source": [
    "[Coloque os dados agregados em um DataFrame para que cada registro nele represente o que cada usuário consumiu em um determinado mês.]"
   ]
  },
  {
   "cell_type": "code",
   "execution_count": 28,
   "metadata": {
    "id": "BYDTkxOauj8r"
   },
   "outputs": [
    {
     "name": "stdout",
     "output_type": "stream",
     "text": [
      "      user_id  month  calls_total  minutes_total  messages_total  mb_total\n",
      "0        1000     12         16.0         116.83            11.0   1901.47\n",
      "1        1001      8         22.0         171.14            30.0   6919.15\n",
      "2        1001      9         38.0         297.69            44.0  13314.82\n",
      "3        1001     10         47.0         374.11            53.0  22330.49\n",
      "4        1001     11         49.0         404.59            36.0  18504.30\n",
      "...       ...    ...          ...            ...             ...       ...\n",
      "2288     1407     11          0.0           0.00             1.0    290.06\n",
      "2289     1482     10          0.0           0.00             2.0      0.00\n",
      "2290     1094     10          0.0           0.00             0.0   1728.71\n",
      "2291     1108     12          0.0           0.00             0.0    233.17\n",
      "2292     1311      6          0.0           0.00             0.0   1498.83\n",
      "\n",
      "[2293 rows x 6 columns]\n"
     ]
    }
   ],
   "source": [
    "# Juntar chamadas, mensagens e internet\n",
    "monthly_data = calls_grouped.merge(messages_grouped, how='outer', on=['user_id', 'month'])\n",
    "monthly_data = monthly_data.merge(internet_grouped, how='outer', on=['user_id', 'month'])\n",
    "\n",
    "# Substituir NaNs por 0\n",
    "monthly_data = monthly_data.fillna(0)\n",
    "\n",
    "# Exibir o resultado\n",
    "print(monthly_data)\n",
    "\n",
    "\n",
    "\n",
    "\n"
   ]
  },
  {
   "cell_type": "code",
   "execution_count": 29,
   "metadata": {
    "id": "SW-sgLaHuj8r"
   },
   "outputs": [
    {
     "name": "stdout",
     "output_type": "stream",
     "text": [
      "      user_id  month  calls_total  minutes_total  messages_total  mb_total  \\\n",
      "0        1000     12         16.0         116.83            11.0   1901.47   \n",
      "1        1001      8         22.0         171.14            30.0   6919.15   \n",
      "2        1001      9         38.0         297.69            44.0  13314.82   \n",
      "3        1001     10         47.0         374.11            53.0  22330.49   \n",
      "4        1001     11         49.0         404.59            36.0  18504.30   \n",
      "...       ...    ...          ...            ...             ...       ...   \n",
      "2288     1204     12          0.0           0.00            78.0  36730.05   \n",
      "2289     1349     10          0.0           0.00            76.0  13093.55   \n",
      "2290     1349     11          0.0           0.00            72.0  17128.26   \n",
      "2291     1349     12          0.0           0.00            61.0  13039.91   \n",
      "2292     1108     12          0.0           0.00             0.0    233.17   \n",
      "\n",
      "          plan  \n",
      "0     ultimate  \n",
      "1         surf  \n",
      "2         surf  \n",
      "3         surf  \n",
      "4         surf  \n",
      "...        ...  \n",
      "2288  ultimate  \n",
      "2289      surf  \n",
      "2290      surf  \n",
      "2291      surf  \n",
      "2292  ultimate  \n",
      "\n",
      "[2293 rows x 7 columns]\n"
     ]
    }
   ],
   "source": [
    "# Adicionar as informações sobre o plano\n",
    "monthly_data = monthly_data.merge(users[['user_id', 'plan']], on='user_id')\n",
    "\n",
    "# Exibir o resultado\n",
    "print(monthly_data)\n"
   ]
  },
  {
   "cell_type": "markdown",
   "metadata": {
    "id": "mU8dKHTQuj8r"
   },
   "source": [
    "[Calcule a receita mensal para cada usuário: subtraia o limite gratuito do pacote do número total de chamadas, mensagens de texto e dados; multiplique o resultado pelo valor do plano; adicione o preço mensal dependendo do plano. Importante: isso talvez não seja tão simples e necessite de várias linhas, considerando as condições do plano. Portanto, não se preocupe se você passar algum tempo nesta etapa.]"
   ]
  },
  {
   "cell_type": "code",
   "execution_count": 30,
   "metadata": {
    "id": "JiPHXbQAuj8r"
   },
   "outputs": [
    {
     "name": "stdout",
     "output_type": "stream",
     "text": [
      "      user_id  month      plan   revenue\n",
      "0        1000     12  ultimate   70.0000\n",
      "1        1001      8      surf   20.0000\n",
      "2        1001      9      surf   20.0000\n",
      "3        1001     10      surf  229.2047\n",
      "4        1001     11      surf  114.3290\n",
      "...       ...    ...       ...       ...\n",
      "2288     1204     12  ultimate  130.1005\n",
      "2289     1349     10      surf   20.7800\n",
      "2290     1349     11      surf   73.7078\n",
      "2291     1349     12      surf   20.3300\n",
      "2292     1108     12  ultimate   70.0000\n",
      "\n",
      "[2293 rows x 4 columns]\n"
     ]
    }
   ],
   "source": [
    "# Merge para incluir o plano no monthly_data\n",
    "monthly_data.rename(columns={'plan_x' : 'plan'}, inplace=True)\n",
    "\n",
    "monthly_data = monthly_data.merge(users[['user_id', 'plan']], on='user_id', how='left')\n",
    "\n",
    "# DataFrame com informações dos planos\n",
    "plan_data = pd.DataFrame({\n",
    "    'plan': ['surf', 'ultimate'],\n",
    "    'monthly_fee': [20, 70],\n",
    "    'included_minutes': [500, 3000],\n",
    "    'included_sms': [50, 1000],\n",
    "    'included_mb': [15360, 30720],  # 15GB e 30GB em MB\n",
    "    'extra_min_cost': [0.03, 0.01],\n",
    "    'extra_sms_cost': [0.03, 0.01],\n",
    "    'extra_mb_cost': [0.03, 0.01],\n",
    "})\n",
    "\n",
    "# Merge com os dados mensais\n",
    "monthly_data.rename(columns={'plan_x' : 'plan'}, inplace=True)\n",
    "\n",
    "monthly_data = monthly_data.merge(plan_data, on='plan', how='left')\n",
    "\n",
    "# Função para calcular a receita\n",
    "def calculate_revenue(row):\n",
    "    extra_minutes = max(0, row['minutes_total'] - row['included_minutes'])\n",
    "    extra_sms = max(0, row['messages_total'] - row['included_sms'])\n",
    "    extra_mb = max(0, row['mb_total'] - row['included_mb'])\n",
    "\n",
    "    revenue = (\n",
    "        row['monthly_fee'] +\n",
    "        extra_minutes * row['extra_min_cost'] +\n",
    "        extra_sms * row['extra_sms_cost'] +\n",
    "        extra_mb * row['extra_mb_cost']\n",
    "    )\n",
    "    return revenue\n",
    "\n",
    "# Calcular a receita mensal\n",
    "monthly_data['revenue'] = monthly_data.apply(calculate_revenue, axis=1)\n",
    "\n",
    "# Exibir resultado final\n",
    "print(monthly_data[['user_id', 'month', 'plan', 'revenue']])\n"
   ]
  },
  {
   "cell_type": "markdown",
   "metadata": {},
   "source": [
    "\n",
    "<div class=\"alert alert-block alert-warning\">\n",
    "<b> Comentário do revisor: </b> <a class=\"tocSkip\"></a>\n",
    "- Codigo hardcoded não é uma boa prática. Se o dataset mudar, esses valores fixos dos planos não serão mais válidos. O correto é ler direto do dataset de leitura.\n",
    "- Observação: 1Gb é igual a 1024 mb. Você dividiu por 1000 em vez de 1024\n",
    "</div>"
   ]
  },
  {
   "cell_type": "markdown",
   "metadata": {
    "id": "0HFWXKTQuj8r"
   },
   "source": [
    "## Estude o comportamento do usuário"
   ]
  },
  {
   "cell_type": "markdown",
   "metadata": {
    "id": "i6gGFggkuj8s"
   },
   "source": [
    "[Calcule algumas estatísticas descritivas úteis para os dados agregados, o que costuma revelar uma imagem geral capturada pelos dados. Desenhe gráficos úteis para ajudar na compreensão. Já que a tarefa principal é comparar os planos e decidir qual é mais rentável, as estatísticas e os gráficos devem ser calculados por plano.]\n",
    "\n",
    "[Existem dicas relevantes nos comentários para as chamadas. Essas dicas não foram fornecidas para as mensagens e internet, mas o princípio do estudo estatístico é o mesmo em todos os casos.]"
   ]
  },
  {
   "cell_type": "markdown",
   "metadata": {
    "id": "umaMfSLxuj8s"
   },
   "source": [
    "### Chamadas"
   ]
  },
  {
   "cell_type": "code",
   "execution_count": 31,
   "metadata": {
    "id": "0236-tJnuj8t"
   },
   "outputs": [
    {
     "data": {
      "image/png": "[encoded data removed]",
      "text/plain": [
       "<Figure size 1200x600 with 1 Axes>"
      ]
     },
     "metadata": {},
     "output_type": "display_data"
    }
   ],
   "source": [
    "# Compare a duração média das chamadas de cada plano para cada mês. Crie um gráfico de barras para visualizar o resultado.\n",
    "\n",
    "# Calcule a duração média das chamadas por plano e por mês\n",
    "calls_grouped_by_plan = calls_grouped.merge(users[['user_id', 'plan']], on='user_id', how='left')\n",
    "avg_duration_by_plan = calls_grouped_by_plan.groupby(['plan', 'month'])['minutes_total'].mean().reset_index()\n",
    "\n",
    "\n",
    "# Ajustar o gráfico para uma aparência mais clara\n",
    "plt.figure(figsize=(12, 6))\n",
    "sns.barplot(data=avg_duration_by_plan, x='month', y='minutes_total', hue='plan')\n",
    "\n",
    "# Personalizar o gráfico\n",
    "plt.title('Duração Média das Chamadas por Plano e Mês', fontsize=16)\n",
    "plt.xlabel('Mês', fontsize=12)\n",
    "plt.ylabel('Duração Média das Chamadas (minutos)', fontsize=12)\n",
    "plt.legend(title='Plano', fontsize=10)\n",
    "\n",
    "# Mostrar o gráfico\n",
    "plt.show()\n"
   ]
  },
  {
   "cell_type": "code",
   "execution_count": 32,
   "metadata": {
    "id": "9sCQ1lP8uj8u"
   },
   "outputs": [
    {
     "data": {
      "image/png": "[encoded data removed]",
      "text/plain": [
       "<Figure size 1200x600 with 1 Axes>"
      ]
     },
     "metadata": {},
     "output_type": "display_data"
    }
   ],
   "source": [
    "# Calcular o número total de minutos por usuário e por mês, já agrupado por plano\n",
    "calls_grouped_by_plan = calls_grouped.merge(users[['user_id', 'plan']], on='user_id', how='left')\n",
    "\n",
    "# Plotar o histograma para os minutos totais por plano\n",
    "plt.figure(figsize=(12, 6))\n",
    "\n",
    "# Usando seaborn para o histograma, agrupando por plano\n",
    "sns.histplot(data=calls_grouped_by_plan, x='minutes_total', hue='plan', kde=True, bins=30, element='step', stat='density')\n",
    "\n",
    "# Personalizar o gráfico\n",
    "plt.title('Distribuição do Número de Minutos por Plano', fontsize=16)\n",
    "plt.xlabel('Número de Minutos Totais', fontsize=12)\n",
    "plt.ylabel('Densidade', fontsize=12)\n",
    "\n",
    "# Garantir que a legenda apareça corretamente\n",
    "plt.legend(title='Plano', labels=['Surf', 'Ultimate'], fontsize=10)\n",
    "\n",
    "# Mostrar o gráfico\n",
    "plt.show()\n"
   ]
  },
  {
   "cell_type": "markdown",
   "metadata": {
    "id": "_x1pRDFtuj8u"
   },
   "source": [
    "[Calcule a média e a variância da duração das chamadas para refletir se os usuários de cada plano possuem comportamentos diferentes sobre as chamadas.]"
   ]
  },
  {
   "cell_type": "code",
   "execution_count": 33,
   "metadata": {
    "id": "cIdodPExuj8u"
   },
   "outputs": [
    {
     "name": "stdout",
     "output_type": "stream",
     "text": [
      "       plan        mean           var\n",
      "0      surf  412.364793  46921.582548\n",
      "1  ultimate  410.757051  50344.704719\n"
     ]
    }
   ],
   "source": [
    "# Calcule a média e a variância da duração mensal das chamadas\n",
    "# Juntar os dados de chamadas com as informações do plano\n",
    "calls_grouped_by_plan = calls_grouped.merge(users[['user_id', 'plan']], on='user_id', how='left')\n",
    "\n",
    "# Calcular a média e a variância da duração das chamadas por plano\n",
    "calls_stats = calls_grouped_by_plan.groupby('plan')['minutes_total'].agg(['mean', 'var']).reset_index()\n",
    "\n",
    "# Exibir os resultados\n",
    "print(calls_stats)\n",
    "\n"
   ]
  },
  {
   "cell_type": "code",
   "execution_count": 34,
   "metadata": {
    "id": "DW7vTypxuj8u"
   },
   "outputs": [
    {
     "data": {
      "image/png": "[encoded data removed]",
      "text/plain": [
       "<Figure size 1000x600 with 1 Axes>"
      ]
     },
     "metadata": {},
     "output_type": "display_data"
    }
   ],
   "source": [
    "# Juntar os dados de chamadas com as informações do plano\n",
    "calls_grouped_by_plan = calls_grouped.merge(users[['user_id', 'plan']], on='user_id', how='left')\n",
    "\n",
    "# Criar o diagrama de caixa\n",
    "plt.figure(figsize=(10, 6))\n",
    "sns.boxplot(data=calls_grouped_by_plan, x='plan', y='minutes_total', palette='Set2')\n",
    "\n",
    "# Adicionar título e rótulos\n",
    "plt.title('Distribuição da Duração Mensal das Chamadas por Plano', fontsize=16)\n",
    "plt.xlabel('Plano', fontsize=14)\n",
    "plt.ylabel('Duração Total (minutos)', fontsize=14)\n",
    "\n",
    "# Exibir o gráfico\n",
    "plt.show()\n",
    "\n"
   ]
  },
  {
   "cell_type": "markdown",
   "metadata": {
    "id": "Uyt3rWn7uj8u"
   },
   "source": [
    "[Formule conclusões sobre como os usuários se comportam em termos de chamadas. O comportamento é diferente dependendo do plano?]"
   ]
  },
  {
   "cell_type": "markdown",
   "metadata": {
    "id": "2hWSPtrnuj8v"
   },
   "source": [
    "### Mensagens"
   ]
  },
  {
   "cell_type": "code",
   "execution_count": 35,
   "metadata": {
    "id": "9kPlAhOJuj8v"
   },
   "outputs": [
    {
     "data": {
      "image/png": "[encoded data removed]",
      "text/plain": [
       "<Figure size 1000x600 with 1 Axes>"
      ]
     },
     "metadata": {},
     "output_type": "display_data"
    }
   ],
   "source": [
    "# Compare o número de mensagens que os usuários de cada plano costumam enviar a cada mês\n",
    "\n",
    "# Calcule o número de mensagens enviadas por cada usuário por mês\n",
    "messages_grouped = messages.groupby(['user_id', 'month']).size().reset_index(name='messages_total')\n",
    "\n",
    "# Junte as informações de mensagens com o plano\n",
    "messages_grouped = messages_grouped.merge(users[['user_id', 'plan']], on='user_id', how='left')\n",
    "\n",
    "\n",
    "# Plotando a distribuição de mensagens enviadas por mês para cada plano\n",
    "plt.figure(figsize=(10, 6))\n",
    "sns.boxplot(data=messages_grouped, x='plan', y='messages_total')\n",
    "plt.title('Distribuição do Número de Mensagens Enviadas por Mês por Plano')\n",
    "plt.xlabel('Plano')\n",
    "plt.ylabel('Número de Mensagens')\n",
    "plt.show()\n"
   ]
  },
  {
   "cell_type": "code",
   "execution_count": 36,
   "metadata": {
    "id": "fIVdRuT6uj8v"
   },
   "outputs": [
    {
     "data": {
      "image/png": "[encoded data removed]",
      "text/plain": [
       "<Figure size 1000x600 with 1 Axes>"
      ]
     },
     "metadata": {},
     "output_type": "display_data"
    }
   ],
   "source": [
    "# Compare a quantidade de tráfego de internet consumido pelos usuários por plano\n",
    "\n",
    "# Calcule o total de tráfego de internet (mb_used) por usuário por mês\n",
    "internet_grouped = internet.groupby(['user_id', 'month'])['mb_used'].sum().reset_index(name='mb_total')\n",
    "\n",
    "# Junte as informações sobre o plano\n",
    "internet_grouped = internet_grouped.merge(users[['user_id', 'plan']], on='user_id', how='left')\n",
    "\n",
    "# Plotando a distribuição do tráfego de internet consumido por mês para cada plano\n",
    "plt.figure(figsize=(10, 6))\n",
    "sns.boxplot(data=internet_grouped, x='plan', y='mb_total')\n",
    "plt.title('Distribuição do Tráfego de Internet Consumido por Mês por Plano')\n",
    "plt.xlabel('Plano')\n",
    "plt.ylabel('Tráfego de Internet (MB)')\n",
    "plt.show()\n",
    "\n"
   ]
  },
  {
   "cell_type": "code",
   "execution_count": null,
   "metadata": {
    "id": "di6wucOLuj8v"
   },
   "outputs": [],
   "source": []
  },
  {
   "cell_type": "markdown",
   "metadata": {
    "id": "v6QELMtcuj8v"
   },
   "source": [
    "[Formule conclusões sobre como os usuários costumam consumir o tráfego da internet. O comportamento é diferente dependendo do plano?]"
   ]
  },
  {
   "cell_type": "markdown",
   "metadata": {
    "id": "nHUCwAnauj8w"
   },
   "source": [
    "### Internet"
   ]
  },
  {
   "cell_type": "code",
   "execution_count": 37,
   "metadata": {
    "id": "EEm27RaRuj8w"
   },
   "outputs": [
    {
     "data": {
      "image/png": "[encoded data removed]",
      "text/plain": [
       "<Figure size 1000x600 with 1 Axes>"
      ]
     },
     "metadata": {},
     "output_type": "display_data"
    }
   ],
   "source": [
    "# Calcule o número de sessões de internet (em vez de tráfego) por usuário por mês\n",
    "internet_sessions = internet.groupby(['user_id', 'month']).size().reset_index(name='sessions_total')\n",
    "\n",
    "# Junte as informações sobre o plano\n",
    "internet_sessions = internet_sessions.merge(users[['user_id', 'plan']], on='user_id', how='left')\n",
    "\n",
    "\n",
    "# Plotando a distribuição do número de sessões de internet por mês para cada plano\n",
    "plt.figure(figsize=(10, 6))\n",
    "sns.boxplot(data=internet_sessions, x='plan', y='sessions_total')\n",
    "plt.title('Distribuição do Número de Sessões de Internet por Mês por Plano')\n",
    "plt.xlabel('Plano')\n",
    "plt.ylabel('Número de Sessões de Internet')\n",
    "plt.show()\n"
   ]
  },
  {
   "cell_type": "code",
   "execution_count": null,
   "metadata": {
    "id": "Detb0wIZuj8w"
   },
   "outputs": [],
   "source": []
  },
  {
   "cell_type": "code",
   "execution_count": null,
   "metadata": {
    "id": "1zsw31_cuj8w"
   },
   "outputs": [],
   "source": []
  },
  {
   "cell_type": "markdown",
   "metadata": {
    "id": "GsHkFpGmuj8w"
   },
   "source": [
    "[Formule conclusões sobre como os usuários tendem a consumir o tráfego da internet. O comportamento é diferente dependendo do plano?]"
   ]
  },
  {
   "cell_type": "markdown",
   "metadata": {
    "id": "g23qXaYNuj8x"
   },
   "source": [
    "## Receita"
   ]
  },
  {
   "cell_type": "markdown",
   "metadata": {
    "id": "qI9oKXFZuj8y"
   },
   "source": [
    "[Da mesma forma que você estudou o comportamento dos usuários, descreva estatisticamente as receitas dos planos.]"
   ]
  },
  {
   "cell_type": "code",
   "execution_count": 38,
   "metadata": {
    "id": "CGuBwYRyuj8y"
   },
   "outputs": [
    {
     "name": "stdout",
     "output_type": "stream",
     "text": [
      "           count        mean         std   min   25%      50%       75%  \\\n",
      "plan                                                                      \n",
      "surf      1573.0  131.095719  163.326013  20.0  20.0  65.0609  190.5956   \n",
      "ultimate   720.0   73.095522   15.753286  70.0  70.0  70.0000   70.0000   \n",
      "\n",
      "                max  \n",
      "plan                 \n",
      "surf      1705.7849  \n",
      "ultimate   228.7533  \n"
     ]
    },
    {
     "data": {
      "image/png": "[encoded data removed]",
      "text/plain": [
       "<Figure size 1000x600 with 1 Axes>"
      ]
     },
     "metadata": {},
     "output_type": "display_data"
    },
    {
     "data": {
      "image/png": "[encoded data removed]",
      "text/plain": [
       "<Figure size 1000x600 with 1 Axes>"
      ]
     },
     "metadata": {},
     "output_type": "display_data"
    }
   ],
   "source": [
    "# Calcule as estatísticas descritivas da receita mensal por plano\n",
    "revenue_stats = monthly_data.groupby('plan')['revenue'].describe()\n",
    "\n",
    "# Exibir as estatísticas descritivas da receita por plano\n",
    "print(revenue_stats)\n",
    "\n",
    "# Visualize a distribuição das receitas por plano usando um gráfico de caixa\n",
    "plt.figure(figsize=(10, 6))\n",
    "sns.boxplot(data=monthly_data, x='plan', y='revenue')\n",
    "plt.title('Distribuição da Receita Mensal por Plano')\n",
    "plt.xlabel('Plano')\n",
    "plt.ylabel('Receita Mensal')\n",
    "plt.show()\n",
    "\n",
    "# Histograma das receitas por plano\n",
    "plt.figure(figsize=(10, 6))\n",
    "sns.histplot(data=monthly_data, x='revenue', hue='plan', multiple='stack', bins=30)\n",
    "plt.title('Distribuição da Receita Mensal por Plano')\n",
    "plt.xlabel('Receita Mensal')\n",
    "plt.ylabel('Número de Usuários')\n",
    "plt.show()\n"
   ]
  },
  {
   "cell_type": "code",
   "execution_count": null,
   "metadata": {
    "id": "qJSyfvUguj8y"
   },
   "outputs": [],
   "source": []
  },
  {
   "cell_type": "code",
   "execution_count": null,
   "metadata": {
    "id": "KUSxMW71uj8z"
   },
   "outputs": [],
   "source": []
  },
  {
   "cell_type": "markdown",
   "metadata": {
    "id": "6X34EwHpuj8z"
   },
   "source": [
    "[Formule conclusões sobre como a receita difere entre os planos.]"
   ]
  },
  {
   "cell_type": "markdown",
   "metadata": {
    "id": "xJ6Mu-KAuj8z"
   },
   "source": [
    "## Teste hipóteses estatísticas"
   ]
  },
  {
   "cell_type": "markdown",
   "metadata": {
    "id": "lop_0j4Duj8z"
   },
   "source": [
    "[Teste a hipótese de que a receita média dos usuários dos planos Ultimate e Surf são diferentes.]"
   ]
  },
  {
   "cell_type": "markdown",
   "metadata": {
    "id": "-X2l1R8Luj80"
   },
   "source": [
    "[Formule as hipóteses nula e alternativa, escolha o teste estatístico, escolha o valor alfa.]"
   ]
  },
  {
   "cell_type": "code",
   "execution_count": 39,
   "metadata": {
    "id": "LyGrPhpUuj80"
   },
   "outputs": [
    {
     "name": "stdout",
     "output_type": "stream",
     "text": [
      "Variância Surf: 26675.386453844963\n",
      "Variância Ultimate: 248.16601237650133\n",
      "Razão das variâncias: 107.49008777791377\n",
      "Estatística t: 13.943417621177012\n",
      "Valor p: 7.751003791830694e-42\n",
      "Rejeitamos a hipótese nula. As receitas médias dos planos Surf e Ultimate são diferentes.\n"
     ]
    }
   ],
   "source": [
    "# 1. Separar as receitas por plano\n",
    "surf_revenue = monthly_data[monthly_data['plan'] == 'surf']['revenue']\n",
    "ultimate_revenue = monthly_data[monthly_data['plan'] == 'ultimate']['revenue']\n",
    "\n",
    "# 2. Definir hipóteses\n",
    "# H₀: A receita média é igual entre os planos Surf e Ultimate\n",
    "# H₁: A receita média é diferente entre os planos Surf e Ultimate\n",
    "\n",
    "# 3. Calcular variâncias e verificar se são aproximadamente iguais\n",
    "surf_var = surf_revenue.var(ddof=1)\n",
    "ultimate_var = ultimate_revenue.var(ddof=1)\n",
    "var_ratio = max(surf_var, ultimate_var) / min(surf_var, ultimate_var)\n",
    "equal_var = var_ratio < 4\n",
    "\n",
    "# 4. Realizar o teste t de Student\n",
    "t_stat, p_value = ttest_ind(surf_revenue, ultimate_revenue, equal_var=equal_var)\n",
    "\n",
    "# 5. Interpretar o resultado\n",
    "alpha = 0.05\n",
    "print(f'Variância Surf: {surf_var}')\n",
    "print(f'Variância Ultimate: {ultimate_var}')\n",
    "print(f'Razão das variâncias: {var_ratio}')\n",
    "print(f'Estatística t: {t_stat}')\n",
    "print(f'Valor p: {p_value}')\n",
    "\n",
    "if p_value < alpha:\n",
    "    print('Rejeitamos a hipótese nula. As receitas médias dos planos Surf e Ultimate são diferentes.')\n",
    "else:\n",
    "    print('Falhamos em rejeitar a hipótese nula. Não há diferença significativa nas receitas médias dos planos Surf e Ultimate.')\n"
   ]
  },
  {
   "cell_type": "markdown",
   "metadata": {},
   "source": [
    "\n",
    "<div class=\"alert alert-block alert-danger\">\n",
    "<b> Comentário do revisor: </b> <a class=\"tocSkip\"></a>\n",
    "\n",
    "Precisamos seguir estes passos para o teste de hipótese:\n",
    "- Definir a hipótese nula (ex: a altura média é igual entre homem e mulheres)\n",
    "- Definir a hipótese alternativa (ex: a altura média não é igual entre homem e mulheres)\n",
    "- Avaliar se as variâncias são iguais, por exemplo, calculando a variância da amostra e verificando a igualdade (ex: sample1.var() == sample2.var())\n",
    "- Em seguida, ajustar equal_var=True no teste T se as variâncias forem iguais, senão usamos equal_var=False no teste T: https://docs.scipy.org/doc/scipy/reference/generated/scipy.stats.ttest_ind.html.\n",
    "- Avaliar o resultado do teste T\n",
    "\n",
    "</div>"
   ]
  },
  {
   "cell_type": "markdown",
   "metadata": {},
   "source": [
    "<div class=\"alert alert-block alert-success\">\n",
    "<b> Comentário do revisor V2: </b> <a class=\"tocSkip\"></a>\n",
    "\n",
    "Correto\n",
    "</div>\n"
   ]
  },
  {
   "cell_type": "markdown",
   "metadata": {
    "id": "Cz6rwE56uj80"
   },
   "source": [
    "[Teste a hipótese de que a receita média dos usuários da área de NY-NJ difere dos usuários das demais regiões.]"
   ]
  },
  {
   "cell_type": "code",
   "execution_count": null,
   "metadata": {},
   "outputs": [],
   "source": []
  },
  {
   "cell_type": "markdown",
   "metadata": {},
   "source": [
    "<s>\n",
    "<div class=\"alert alert-block alert-danger\">\n",
    "<b> Comentário do revisor: </b> <a class=\"tocSkip\"></a>\n",
    "Atenção:\n",
    "    \n",
    "- Está ausente o teste da cidade\n",
    "- Oriento usar df['city'].str.contains('NY-NJ') para usar como índice. Você pode negar  usando o operador ~\n",
    "    \n",
    "Precisamos seguir estes passos para o teste de hipótese:\n",
    "- Definir a hipótese nula (ex: a altura média é igual entre homem e mulheres)\n",
    "- Definir a hipótese alternativa (ex: a altura média não é igual entre homem e mulheres)\n",
    "- Avaliar se as variâncias são iguais, por exemplo, calculando a variância da amostra e verificando a igualdade (ex: sample1.var() == sample2.var())\n",
    "- Em seguida, ajustar equal_var=True no teste T se as variâncias forem iguais, senão usamos equal_var=False no teste T: https://docs.scipy.org/doc/scipy/reference/generated/scipy.stats.ttest_ind.html.\n",
    "- Avaliar o resultado do teste T\n",
    "\n",
    "</div>"
   ]
  },
  {
   "cell_type": "markdown",
   "metadata": {
    "id": "kMHim5__uj80"
   },
   "source": [
    "[Formule as hipóteses nula e alternativa, escolha o teste estatístico, escolha o valor alfa.]"
   ]
  },
  {
   "cell_type": "code",
   "execution_count": 40,
   "metadata": {
    "id": "98t8iiJyuj80"
   },
   "outputs": [
    {
     "name": "stdout",
     "output_type": "stream",
     "text": [
      "Variância NY-NJ: 15978.27\n",
      "Variância Outras Regiões: 19721.08\n",
      "Razão das variâncias: 1.23\n",
      "Estatística t: -0.0134\n",
      "Valor p: 9.8928e-01\n",
      "Falhamos em rejeitar a hipótese nula. Não há diferença significativa na receita média entre NY-NJ e as demais regiões.\n"
     ]
    }
   ],
   "source": [
    "from scipy.stats import ttest_ind\n",
    "\n",
    "# Etapa 1: Adicionar a coluna 'city' ao monthly_data (caso ainda não esteja presente)\n",
    "if 'city' not in monthly_data.columns:\n",
    "    monthly_data = monthly_data.merge(users[['user_id', 'city']], on='user_id', how='left')\n",
    "\n",
    "# Etapa 2: Separar as receitas dos usuários de NY-NJ e das outras regiões\n",
    "ny_nj_revenue = monthly_data[monthly_data['city'].str.contains('NY-NJ', na=False)]['revenue']\n",
    "outras_revenue = monthly_data[~monthly_data['city'].str.contains('NY-NJ', na=False)]['revenue']\n",
    "\n",
    "# Etapa 3: Definir as hipóteses\n",
    "# H₀: A receita média dos usuários da região NY-NJ é igual à das demais regiões\n",
    "# H₁: A receita média dos usuários da região NY-NJ é diferente da das demais regiões\n",
    "\n",
    "# Etapa 4: Verificar igualdade de variâncias\n",
    "ny_nj_var = ny_nj_revenue.var(ddof=1)\n",
    "outras_var = outras_revenue.var(ddof=1)\n",
    "var_ratio = max(ny_nj_var, outras_var) / min(ny_nj_var, outras_var)\n",
    "equal_var = var_ratio < 4\n",
    "\n",
    "# Etapa 5: Realizar o teste t de Student\n",
    "t_stat, p_value = ttest_ind(ny_nj_revenue, outras_revenue, equal_var=equal_var)\n",
    "\n",
    "# Etapa 6: Interpretar o resultado\n",
    "alpha = 0.05\n",
    "print(f'Variância NY-NJ: {ny_nj_var:.2f}')\n",
    "print(f'Variância Outras Regiões: {outras_var:.2f}')\n",
    "print(f'Razão das variâncias: {var_ratio:.2f}')\n",
    "print(f'Estatística t: {t_stat:.4f}')\n",
    "print(f'Valor p: {p_value:.4e}')\n",
    "\n",
    "if p_value < alpha:\n",
    "    print('Rejeitamos a hipótese nula. A receita média dos usuários da região NY-NJ é diferente das demais regiões.')\n",
    "else:\n",
    "    print('Falhamos em rejeitar a hipótese nula. Não há diferença significativa na receita média entre NY-NJ e as demais regiões.')\n"
   ]
  },
  {
   "cell_type": "markdown",
   "metadata": {},
   "source": [
    "<div class=\"alert alert-block alert-success\">\n",
    "<b> Comentário do revisor V2: </b> <a class=\"tocSkip\"></a>\n",
    "\n",
    "Correto\n",
    "</div>\n"
   ]
  },
  {
   "cell_type": "markdown",
   "metadata": {
    "id": "M8WycwWFuj81"
   },
   "source": [
    "## Conclusão geral\n",
    "\n",
    "[Liste suas conclusões importantes nesta seção final, certifique-se de que elas cobrem todas as decisões (suposições) importantes que você tomou e que levaram à maneira como você processou e analisou os dados.]\n",
    "\n",
    "<div class=\"alert alert-block alert-info\">\n",
    "  <b>Conclusão:</b>\n",
    "  <a class=\"tocSkip\"></a>\n",
    "\n",
    "  <p>Os dados foram limpos e unificados em um DataFrame mensal por usuário, com chamadas, mensagens, internet e receita.</p>\n",
    "\n",
    "  <p>A receita foi calculada com base nas condições reais dos planos, considerando os limites incluídos e os custos adicionais.</p>\n",
    "\n",
    "  <p><strong>Receita por plano:</strong> o plano Surf apresentou maior receita média, mas com maior variabilidade. O plano Ultimate teve receita mais estável.</p>\n",
    "\n",
    "  <h4>Teste de hipótese – Surf vs Ultimate:</h4>\n",
    "  <ul>\n",
    "    <li><strong>H₀:</strong> receitas médias iguais.</li>\n",
    "    <li><strong>Resultado:</strong> valor-p ≈ 0.000 → Rejeitamos H₀.</li>\n",
    "    <li><strong>Conclusão:</strong> receitas médias são diferentes.</li>\n",
    "  </ul>\n",
    "\n",
    "  <h4>Teste de hipótese – NY-NJ vs outras regiões:</h4>\n",
    "  <ul>\n",
    "    <li><strong>H₀:</strong> receitas médias iguais.</li>\n",
    "    <li><strong>Resultado:</strong> valor-p ≈ 0.989 → Não rejeitamos H₀.</li>\n",
    "    <li><strong>Conclusão:</strong> não há diferença significativa entre NY-NJ e outras regiões.</li>\n",
    "  </ul>\n",
    "\n",
    "  <p>Utilizamos o <strong>teste t de Student</strong>, ajustando <em>equal_var</em> com base na razão entre variâncias.</p>\n",
    "</div>\n"
   ]
  },
  {
   "cell_type": "code",
   "execution_count": null,
   "metadata": {},
   "outputs": [],
   "source": []
  }
 ],
 "metadata": {
  "ExecuteTimeLog": [
   {
    "duration": 828,
    "start_time": "2021-11-16T09:21:11.304Z"
   },
   {
    "duration": 893,
    "start_time": "2021-11-16T09:21:17.728Z"
   },
   {
    "duration": 1150,
    "start_time": "2021-11-16T09:21:29.568Z"
   },
   {
    "duration": 3,
    "start_time": "2021-11-16T09:24:14.495Z"
   },
   {
    "duration": 120,
    "start_time": "2021-11-16T09:24:46.630Z"
   },
   {
    "duration": 3,
    "start_time": "2021-11-16T09:28:27.882Z"
   },
   {
    "duration": 4,
    "start_time": "2021-11-16T09:29:54.281Z"
   },
   {
    "duration": 3,
    "start_time": "2021-11-16T09:30:45.936Z"
   },
   {
    "duration": 4,
    "start_time": "2021-11-16T09:31:06.300Z"
   },
   {
    "duration": 113,
    "start_time": "2021-11-16T09:31:37.208Z"
   },
   {
    "duration": 143,
    "start_time": "2021-11-16T09:31:48.656Z"
   },
   {
    "duration": 98,
    "start_time": "2021-11-16T09:31:55.678Z"
   },
   {
    "duration": 3,
    "start_time": "2021-11-16T09:32:08.535Z"
   },
   {
    "duration": 111,
    "start_time": "2021-11-16T09:32:10.120Z"
   },
   {
    "duration": 3,
    "start_time": "2021-11-16T09:32:15.732Z"
   },
   {
    "duration": 4,
    "start_time": "2021-11-16T09:32:29.423Z"
   },
   {
    "duration": 3,
    "start_time": "2021-11-16T10:03:03.074Z"
   },
   {
    "duration": 3,
    "start_time": "2021-11-16T10:10:01.288Z"
   },
   {
    "duration": 3,
    "start_time": "2021-11-16T10:10:46.923Z"
   },
   {
    "duration": 121,
    "start_time": "2021-11-16T10:37:46.494Z"
   },
   {
    "duration": 125,
    "start_time": "2021-11-16T10:38:20.632Z"
   },
   {
    "duration": 112,
    "start_time": "2021-11-16T10:46:53.001Z"
   },
   {
    "duration": 110,
    "start_time": "2021-11-16T10:48:25.775Z"
   },
   {
    "duration": 3,
    "start_time": "2021-11-16T10:50:18.720Z"
   },
   {
    "duration": 4,
    "start_time": "2021-11-16T10:50:37.649Z"
   },
   {
    "duration": 2,
    "start_time": "2021-11-16T10:50:51.884Z"
   },
   {
    "duration": 3,
    "start_time": "2021-11-16T10:51:56.237Z"
   },
   {
    "duration": 101,
    "start_time": "2021-11-16T10:53:13.791Z"
   },
   {
    "duration": 3,
    "start_time": "2021-11-16T10:55:59.186Z"
   },
   {
    "duration": 3,
    "start_time": "2021-11-16T10:56:10.751Z"
   },
   {
    "duration": 3,
    "start_time": "2021-11-16T10:56:49.038Z"
   },
   {
    "duration": 3,
    "start_time": "2021-11-16T10:56:49.174Z"
   },
   {
    "duration": 4,
    "start_time": "2021-11-16T10:56:49.414Z"
   },
   {
    "duration": 3,
    "start_time": "2021-11-16T10:56:49.680Z"
   },
   {
    "duration": 3,
    "start_time": "2021-11-16T10:56:50.370Z"
   },
   {
    "duration": 114,
    "start_time": "2021-11-16T10:59:34.518Z"
   },
   {
    "duration": 3,
    "start_time": "2021-11-16T11:01:41.201Z"
   },
   {
    "duration": 116,
    "start_time": "2021-11-16T11:01:48.754Z"
   },
   {
    "duration": 3,
    "start_time": "2021-11-16T11:02:16.685Z"
   },
   {
    "duration": 3,
    "start_time": "2021-11-16T11:02:19.479Z"
   },
   {
    "duration": 3,
    "start_time": "2021-11-16T11:02:47.067Z"
   },
   {
    "duration": 3,
    "start_time": "2021-11-16T11:02:49.353Z"
   },
   {
    "duration": 3,
    "start_time": "2021-11-16T11:03:07.835Z"
   },
   {
    "duration": 3,
    "start_time": "2021-11-16T11:03:07.953Z"
   },
   {
    "duration": 112,
    "start_time": "2021-11-16T11:07:52.072Z"
   },
   {
    "duration": 187,
    "start_time": "2021-11-16T11:09:23.468Z"
   },
   {
    "duration": 4,
    "start_time": "2021-11-16T11:10:01.455Z"
   },
   {
    "duration": 3,
    "start_time": "2021-11-16T11:10:05.069Z"
   },
   {
    "duration": 4,
    "start_time": "2021-11-16T11:10:13.376Z"
   },
   {
    "duration": 3,
    "start_time": "2021-11-16T11:10:14.434Z"
   },
   {
    "duration": 3,
    "start_time": "2021-11-16T11:10:22.853Z"
   },
   {
    "duration": 4,
    "start_time": "2021-11-16T11:27:29.279Z"
   },
   {
    "duration": 4,
    "start_time": "2021-11-16T11:29:08.919Z"
   },
   {
    "duration": 118,
    "start_time": "2021-11-16T11:29:46.703Z"
   },
   {
    "duration": 437,
    "start_time": "2021-11-16T11:36:02.181Z"
   },
   {
    "duration": 157,
    "start_time": "2021-11-16T11:36:14.388Z"
   },
   {
    "duration": 207,
    "start_time": "2021-11-16T11:47:15.898Z"
   },
   {
    "duration": 3,
    "start_time": "2021-11-16T11:53:52.092Z"
   },
   {
    "duration": 3,
    "start_time": "2021-11-16T11:53:52.236Z"
   },
   {
    "duration": 3,
    "start_time": "2021-11-16T11:59:12.005Z"
   },
   {
    "duration": 112,
    "start_time": "2021-11-16T12:00:33.446Z"
   },
   {
    "duration": 3,
    "start_time": "2021-11-16T12:02:14.453Z"
   },
   {
    "duration": 3,
    "start_time": "2021-11-16T12:02:39.512Z"
   },
   {
    "duration": 106,
    "start_time": "2021-11-16T12:03:03.460Z"
   },
   {
    "duration": 3,
    "start_time": "2021-11-17T20:37:21.139Z"
   },
   {
    "duration": 3,
    "start_time": "2021-11-17T20:37:22.229Z"
   },
   {
    "duration": 3,
    "start_time": "2021-11-17T20:38:38.806Z"
   },
   {
    "duration": 3,
    "start_time": "2021-11-17T20:38:41.958Z"
   },
   {
    "duration": 3,
    "start_time": "2021-11-17T20:43:46.551Z"
   },
   {
    "duration": 4,
    "start_time": "2021-11-17T20:58:21.835Z"
   },
   {
    "duration": 3,
    "start_time": "2021-11-17T20:59:21.872Z"
   },
   {
    "duration": 4,
    "start_time": "2021-11-17T20:59:45.352Z"
   },
   {
    "duration": 4,
    "start_time": "2021-11-17T20:59:49.646Z"
   },
   {
    "duration": 159,
    "start_time": "2021-11-17T21:02:26.949Z"
   },
   {
    "duration": 3,
    "start_time": "2021-11-17T21:03:53.461Z"
   },
   {
    "duration": 3,
    "start_time": "2021-11-17T21:03:53.694Z"
   },
   {
    "duration": 3,
    "start_time": "2021-11-17T21:05:28.145Z"
   },
   {
    "duration": 116,
    "start_time": "2021-11-17T21:05:57.787Z"
   },
   {
    "duration": 3,
    "start_time": "2021-11-17T21:06:37.993Z"
   },
   {
    "duration": 3,
    "start_time": "2021-11-17T21:06:38.261Z"
   },
   {
    "duration": 3,
    "start_time": "2021-11-17T21:11:54.358Z"
   },
   {
    "duration": 3,
    "start_time": "2021-11-17T21:12:43.846Z"
   },
   {
    "duration": 4,
    "start_time": "2021-11-17T21:13:08.773Z"
   },
   {
    "duration": 3,
    "start_time": "2021-11-17T21:14:44.441Z"
   },
   {
    "duration": 3,
    "start_time": "2021-11-17T21:15:42.059Z"
   },
   {
    "duration": 4,
    "start_time": "2021-11-17T21:15:51.995Z"
   },
   {
    "duration": 3,
    "start_time": "2021-11-17T21:15:53.923Z"
   },
   {
    "duration": 3,
    "start_time": "2021-11-17T21:15:55.282Z"
   },
   {
    "duration": 3,
    "start_time": "2021-11-17T21:16:28.492Z"
   },
   {
    "duration": 3,
    "start_time": "2021-11-17T21:16:32.603Z"
   },
   {
    "duration": 3,
    "start_time": "2021-11-17T21:17:06.941Z"
   },
   {
    "duration": 98,
    "start_time": "2021-11-17T21:18:05.733Z"
   },
   {
    "duration": 4,
    "start_time": "2021-11-17T21:21:35.255Z"
   },
   {
    "duration": 3,
    "start_time": "2021-11-17T21:21:37.804Z"
   },
   {
    "duration": 4,
    "start_time": "2021-11-17T21:23:06.071Z"
   },
   {
    "duration": 3,
    "start_time": "2021-11-17T21:23:24.799Z"
   },
   {
    "duration": 3,
    "start_time": "2021-11-17T21:23:32.591Z"
   },
   {
    "duration": 98,
    "start_time": "2021-11-17T21:28:31.559Z"
   },
   {
    "duration": 3,
    "start_time": "2021-11-17T21:28:45.448Z"
   },
   {
    "duration": 3,
    "start_time": "2021-11-17T21:29:17.303Z"
   },
   {
    "duration": 3,
    "start_time": "2021-11-17T21:29:29.617Z"
   },
   {
    "duration": 3,
    "start_time": "2021-11-17T21:29:32.681Z"
   },
   {
    "duration": 3,
    "start_time": "2021-11-17T21:36:11.474Z"
   },
   {
    "duration": 3,
    "start_time": "2021-11-17T21:36:14.791Z"
   },
   {
    "duration": 3,
    "start_time": "2021-11-17T21:36:53.943Z"
   },
   {
    "duration": 3,
    "start_time": "2021-11-17T21:36:56.165Z"
   },
   {
    "duration": 4,
    "start_time": "2021-11-17T21:37:16.590Z"
   },
   {
    "duration": 3,
    "start_time": "2021-11-17T21:37:22.702Z"
   },
   {
    "duration": 4,
    "start_time": "2021-11-17T21:38:03.479Z"
   },
   {
    "duration": 3,
    "start_time": "2021-11-17T21:38:08.601Z"
   },
   {
    "duration": 3,
    "start_time": "2021-11-17T21:38:12.928Z"
   },
   {
    "duration": 3,
    "start_time": "2021-11-17T21:38:48.896Z"
   },
   {
    "duration": 2,
    "start_time": "2021-11-17T21:38:49.171Z"
   },
   {
    "duration": 4,
    "start_time": "2021-11-17T21:39:57.889Z"
   },
   {
    "duration": 3,
    "start_time": "2021-11-17T21:39:58.057Z"
   },
   {
    "duration": 3,
    "start_time": "2021-11-17T21:41:20.108Z"
   },
   {
    "duration": 3,
    "start_time": "2021-11-17T21:41:20.629Z"
   },
   {
    "duration": 3,
    "start_time": "2021-11-17T21:42:49.136Z"
   },
   {
    "duration": 3,
    "start_time": "2021-11-17T21:43:15.137Z"
   },
   {
    "duration": 4,
    "start_time": "2021-11-17T21:43:16.766Z"
   },
   {
    "duration": 4,
    "start_time": "2021-11-17T21:43:31.711Z"
   },
   {
    "duration": 3,
    "start_time": "2021-11-17T21:43:36.312Z"
   },
   {
    "duration": 4,
    "start_time": "2021-11-17T21:45:08.825Z"
   },
   {
    "duration": 4,
    "start_time": "2021-11-17T21:45:10.119Z"
   },
   {
    "duration": 4,
    "start_time": "2021-11-17T21:45:13.748Z"
   },
   {
    "duration": 3,
    "start_time": "2021-11-17T21:45:22.219Z"
   },
   {
    "duration": 3,
    "start_time": "2021-11-17T21:45:33.412Z"
   },
   {
    "duration": 2,
    "start_time": "2021-11-17T21:46:01.885Z"
   },
   {
    "duration": 3,
    "start_time": "2021-11-17T21:46:03.628Z"
   },
   {
    "duration": 107,
    "start_time": "2021-11-17T21:47:32.512Z"
   },
   {
    "duration": 103,
    "start_time": "2021-11-17T21:50:36.243Z"
   },
   {
    "duration": 3,
    "start_time": "2021-11-18T06:28:31.440Z"
   },
   {
    "duration": 3,
    "start_time": "2021-11-18T06:29:00.168Z"
   },
   {
    "duration": 3,
    "start_time": "2021-11-18T06:31:27.008Z"
   },
   {
    "duration": 2,
    "start_time": "2021-11-18T06:35:34.288Z"
   },
   {
    "duration": 2,
    "start_time": "2021-11-18T06:38:04.527Z"
   },
   {
    "duration": 2659,
    "start_time": "2025-04-12T01:27:31.235Z"
   },
   {
    "duration": 316,
    "start_time": "2025-04-12T01:27:34.114Z"
   },
   {
    "duration": 19,
    "start_time": "2025-04-12T01:28:36.625Z"
   },
   {
    "duration": 9,
    "start_time": "2025-04-12T01:31:36.166Z"
   },
   {
    "duration": 16,
    "start_time": "2025-04-12T01:39:10.215Z"
   },
   {
    "duration": 11,
    "start_time": "2025-04-12T01:39:15.458Z"
   },
   {
    "duration": 30,
    "start_time": "2025-04-12T01:40:57.745Z"
   },
   {
    "duration": 8,
    "start_time": "2025-04-12T01:41:12.169Z"
   },
   {
    "duration": 9,
    "start_time": "2025-04-12T01:42:02.400Z"
   },
   {
    "duration": 6,
    "start_time": "2025-04-12T01:44:49.768Z"
   },
   {
    "duration": 5,
    "start_time": "2025-04-12T01:47:06.014Z"
   },
   {
    "duration": 155,
    "start_time": "2025-04-13T14:27:46.718Z"
   },
   {
    "duration": 2572,
    "start_time": "2025-04-13T14:27:58.101Z"
   },
   {
    "duration": 215,
    "start_time": "2025-04-13T14:28:00.675Z"
   },
   {
    "duration": 17,
    "start_time": "2025-04-13T14:28:02.442Z"
   },
   {
    "duration": 9,
    "start_time": "2025-04-13T14:28:05.937Z"
   },
   {
    "duration": 15,
    "start_time": "2025-04-13T14:28:09.354Z"
   },
   {
    "duration": 15,
    "start_time": "2025-04-13T14:28:11.579Z"
   },
   {
    "duration": 8,
    "start_time": "2025-04-13T14:28:14.110Z"
   },
   {
    "duration": 5,
    "start_time": "2025-04-13T14:28:16.680Z"
   },
   {
    "duration": 5,
    "start_time": "2025-04-13T14:28:19.754Z"
   },
   {
    "duration": 13,
    "start_time": "2025-04-13T14:28:25.105Z"
   },
   {
    "duration": 7,
    "start_time": "2025-04-13T14:28:28.313Z"
   },
   {
    "duration": 12,
    "start_time": "2025-04-13T14:28:33.873Z"
   },
   {
    "duration": 6,
    "start_time": "2025-04-13T14:28:36.394Z"
   },
   {
    "duration": 15,
    "start_time": "2025-04-13T14:29:01.192Z"
   },
   {
    "duration": 8,
    "start_time": "2025-04-13T14:29:05.121Z"
   },
   {
    "duration": 75,
    "start_time": "2025-04-13T14:30:22.246Z"
   },
   {
    "duration": 482,
    "start_time": "2025-04-13T14:30:37.727Z"
   },
   {
    "duration": 46,
    "start_time": "2025-04-13T14:31:12.789Z"
   },
   {
    "duration": 14,
    "start_time": "2025-04-13T14:31:23.443Z"
   },
   {
    "duration": 6,
    "start_time": "2025-04-13T14:31:44.722Z"
   },
   {
    "duration": 10,
    "start_time": "2025-04-13T14:31:46.985Z"
   },
   {
    "duration": 13,
    "start_time": "2025-04-13T14:33:38.002Z"
   },
   {
    "duration": 6,
    "start_time": "2025-04-13T14:36:50.678Z"
   },
   {
    "duration": 6,
    "start_time": "2025-04-13T14:37:19.398Z"
   },
   {
    "duration": 5,
    "start_time": "2025-04-13T14:37:29.560Z"
   },
   {
    "duration": 20,
    "start_time": "2025-04-13T14:37:58.764Z"
   },
   {
    "duration": 132,
    "start_time": "2025-04-13T14:38:05.244Z"
   },
   {
    "duration": 16,
    "start_time": "2025-04-13T14:38:28.430Z"
   },
   {
    "duration": 45,
    "start_time": "2025-04-13T14:38:38.177Z"
   },
   {
    "duration": 2,
    "start_time": "2025-04-13T14:39:00.068Z"
   },
   {
    "duration": 14,
    "start_time": "2025-04-13T14:39:16.203Z"
   },
   {
    "duration": 18,
    "start_time": "2025-04-13T14:39:32.810Z"
   },
   {
    "duration": 2,
    "start_time": "2025-04-13T14:40:35.419Z"
   },
   {
    "duration": 47,
    "start_time": "2025-04-13T14:42:35.975Z"
   },
   {
    "duration": 10,
    "start_time": "2025-04-13T14:43:10.497Z"
   },
   {
    "duration": 16,
    "start_time": "2025-04-13T14:43:12.938Z"
   },
   {
    "duration": 13,
    "start_time": "2025-04-13T14:43:29.589Z"
   },
   {
    "duration": 31,
    "start_time": "2025-04-13T14:43:35.781Z"
   },
   {
    "duration": 160,
    "start_time": "2025-04-14T16:35:13.717Z"
   },
   {
    "duration": 13,
    "start_time": "2025-04-14T16:35:16.711Z"
   },
   {
    "duration": 2557,
    "start_time": "2025-04-14T16:35:23.859Z"
   },
   {
    "duration": 221,
    "start_time": "2025-04-14T16:35:26.418Z"
   },
   {
    "duration": 16,
    "start_time": "2025-04-14T16:35:28.250Z"
   },
   {
    "duration": 8,
    "start_time": "2025-04-14T16:35:30.258Z"
   },
   {
    "duration": 16,
    "start_time": "2025-04-14T16:35:33.330Z"
   },
   {
    "duration": 9,
    "start_time": "2025-04-14T16:35:35.623Z"
   },
   {
    "duration": 20,
    "start_time": "2025-04-14T16:37:41.167Z"
   },
   {
    "duration": 2,
    "start_time": "2025-04-14T16:37:48.073Z"
   },
   {
    "duration": 157,
    "start_time": "2025-04-14T16:37:49.206Z"
   },
   {
    "duration": 17,
    "start_time": "2025-04-14T16:37:49.894Z"
   },
   {
    "duration": 8,
    "start_time": "2025-04-14T16:37:50.582Z"
   },
   {
    "duration": 21,
    "start_time": "2025-04-14T16:37:52.519Z"
   },
   {
    "duration": 8,
    "start_time": "2025-04-14T16:37:54.027Z"
   },
   {
    "duration": 9,
    "start_time": "2025-04-14T16:37:54.895Z"
   },
   {
    "duration": 6,
    "start_time": "2025-04-14T16:37:55.554Z"
   },
   {
    "duration": 5,
    "start_time": "2025-04-14T16:37:57.837Z"
   },
   {
    "duration": 12,
    "start_time": "2025-04-14T16:38:01.885Z"
   },
   {
    "duration": 6,
    "start_time": "2025-04-14T16:38:02.319Z"
   },
   {
    "duration": 11,
    "start_time": "2025-04-14T16:38:04.377Z"
   },
   {
    "duration": 14,
    "start_time": "2025-04-14T16:38:06.808Z"
   },
   {
    "duration": 6,
    "start_time": "2025-04-14T16:38:07.261Z"
   },
   {
    "duration": 10,
    "start_time": "2025-04-14T16:38:09.053Z"
   },
   {
    "duration": 16,
    "start_time": "2025-04-14T16:38:10.767Z"
   },
   {
    "duration": 7,
    "start_time": "2025-04-14T16:38:11.106Z"
   },
   {
    "duration": 12,
    "start_time": "2025-04-14T16:38:12.539Z"
   },
   {
    "duration": 7,
    "start_time": "2025-04-14T16:38:13.780Z"
   },
   {
    "duration": 4,
    "start_time": "2025-04-14T16:38:14.843Z"
   },
   {
    "duration": 17,
    "start_time": "2025-04-14T16:38:16.467Z"
   },
   {
    "duration": 15,
    "start_time": "2025-04-14T16:39:07.848Z"
   },
   {
    "duration": 10,
    "start_time": "2025-04-14T16:39:11.044Z"
   },
   {
    "duration": 16,
    "start_time": "2025-04-14T16:39:12.964Z"
   },
   {
    "duration": 12,
    "start_time": "2025-04-14T16:39:42.958Z"
   },
   {
    "duration": 14,
    "start_time": "2025-04-14T16:39:45.929Z"
   },
   {
    "duration": 6,
    "start_time": "2025-04-14T16:40:19.899Z"
   },
   {
    "duration": 630,
    "start_time": "2025-04-14T16:40:24.891Z"
   },
   {
    "duration": 20,
    "start_time": "2025-04-14T16:43:11.953Z"
   },
   {
    "duration": 35,
    "start_time": "2025-04-14T16:44:33.686Z"
   },
   {
    "duration": 82,
    "start_time": "2025-04-14T16:44:54.433Z"
   },
   {
    "duration": 68,
    "start_time": "2025-04-14T16:45:01.279Z"
   },
   {
    "duration": 80,
    "start_time": "2025-04-14T16:45:05.696Z"
   },
   {
    "duration": 5,
    "start_time": "2025-04-14T16:47:41.255Z"
   },
   {
    "duration": 15,
    "start_time": "2025-04-14T16:48:23.632Z"
   },
   {
    "duration": 17,
    "start_time": "2025-04-14T16:49:21.154Z"
   },
   {
    "duration": 17,
    "start_time": "2025-04-14T16:50:08.883Z"
   },
   {
    "duration": 23,
    "start_time": "2025-04-14T16:51:09.028Z"
   },
   {
    "duration": 5,
    "start_time": "2025-04-14T16:51:14.944Z"
   },
   {
    "duration": 20,
    "start_time": "2025-04-14T16:53:35.362Z"
   },
   {
    "duration": 17,
    "start_time": "2025-04-14T16:53:53.233Z"
   },
   {
    "duration": 13,
    "start_time": "2025-04-14T16:54:08.298Z"
   },
   {
    "duration": 18,
    "start_time": "2025-04-14T16:54:21.281Z"
   },
   {
    "duration": 17,
    "start_time": "2025-04-14T16:54:41.283Z"
   },
   {
    "duration": 14,
    "start_time": "2025-04-14T16:55:08.350Z"
   },
   {
    "duration": 11,
    "start_time": "2025-04-14T16:55:22.324Z"
   },
   {
    "duration": 75,
    "start_time": "2025-04-14T16:55:49.141Z"
   },
   {
    "duration": 38,
    "start_time": "2025-04-14T16:56:20.363Z"
   },
   {
    "duration": 21,
    "start_time": "2025-04-14T16:57:02.121Z"
   },
   {
    "duration": 2,
    "start_time": "2025-04-14T16:57:31.101Z"
   },
   {
    "duration": 227,
    "start_time": "2025-04-14T16:57:37.793Z"
   },
   {
    "duration": 355,
    "start_time": "2025-04-14T16:57:57.723Z"
   },
   {
    "duration": 397,
    "start_time": "2025-04-14T16:58:16.126Z"
   },
   {
    "duration": 14,
    "start_time": "2025-04-14T16:58:34.093Z"
   },
   {
    "duration": 124,
    "start_time": "2025-04-14T16:58:54.664Z"
   },
   {
    "duration": 154,
    "start_time": "2025-04-14T16:59:34.618Z"
   },
   {
    "duration": 124,
    "start_time": "2025-04-14T17:00:03.400Z"
   },
   {
    "duration": 121,
    "start_time": "2025-04-14T17:00:41.800Z"
   },
   {
    "duration": 349,
    "start_time": "2025-04-14T17:01:50.682Z"
   },
   {
    "duration": 17,
    "start_time": "2025-04-14T17:02:24.232Z"
   },
   {
    "duration": 121,
    "start_time": "2025-04-14T17:02:42.565Z"
   },
   {
    "duration": 2,
    "start_time": "2025-04-14T17:03:20.641Z"
   },
   {
    "duration": 7,
    "start_time": "2025-04-14T17:03:38.948Z"
   },
   {
    "duration": 41,
    "start_time": "2025-04-14T17:03:46.273Z"
   },
   {
    "duration": 121,
    "start_time": "2025-04-14T17:04:24.958Z"
   },
   {
    "duration": 10,
    "start_time": "2025-04-14T17:05:00.392Z"
   },
   {
    "duration": 47,
    "start_time": "2025-04-14T17:07:00.682Z"
   },
   {
    "duration": 7,
    "start_time": "2025-04-14T17:08:10.453Z"
   },
   {
    "duration": 55,
    "start_time": "2025-04-14T17:08:27.701Z"
   },
   {
    "duration": 8,
    "start_time": "2025-04-14T17:09:31.070Z"
   },
   {
    "duration": 3,
    "start_time": "2025-04-14T17:09:42.077Z"
   },
   {
    "duration": 18,
    "start_time": "2025-04-15T01:56:37.084Z"
   },
   {
    "duration": 165,
    "start_time": "2025-04-16T22:21:46.092Z"
   },
   {
    "duration": 18,
    "start_time": "2025-04-16T22:22:25.784Z"
   },
   {
    "duration": 18,
    "start_time": "2025-04-16T22:23:44.234Z"
   },
   {
    "duration": 2716,
    "start_time": "2025-04-16T22:24:08.968Z"
   },
   {
    "duration": 223,
    "start_time": "2025-04-16T22:24:11.686Z"
   },
   {
    "duration": 18,
    "start_time": "2025-04-16T22:24:11.911Z"
   },
   {
    "duration": 17,
    "start_time": "2025-04-16T22:24:11.932Z"
   },
   {
    "duration": 16,
    "start_time": "2025-04-16T22:24:11.951Z"
   },
   {
    "duration": 10,
    "start_time": "2025-04-16T22:24:11.968Z"
   },
   {
    "duration": 9,
    "start_time": "2025-04-16T22:24:11.980Z"
   },
   {
    "duration": 6,
    "start_time": "2025-04-16T22:24:11.991Z"
   },
   {
    "duration": 5,
    "start_time": "2025-04-16T22:24:12.751Z"
   },
   {
    "duration": 5,
    "start_time": "2025-04-16T22:24:13.311Z"
   },
   {
    "duration": 12,
    "start_time": "2025-04-16T22:24:13.705Z"
   },
   {
    "duration": 7,
    "start_time": "2025-04-16T22:24:13.891Z"
   },
   {
    "duration": 11,
    "start_time": "2025-04-16T22:24:14.683Z"
   },
   {
    "duration": 17,
    "start_time": "2025-04-16T22:24:15.272Z"
   },
   {
    "duration": 12,
    "start_time": "2025-04-16T22:24:15.679Z"
   },
   {
    "duration": 6,
    "start_time": "2025-04-16T22:24:15.886Z"
   },
   {
    "duration": 11,
    "start_time": "2025-04-16T22:24:16.850Z"
   },
   {
    "duration": 18,
    "start_time": "2025-04-16T22:24:17.732Z"
   },
   {
    "duration": 14,
    "start_time": "2025-04-16T22:24:18.219Z"
   },
   {
    "duration": 7,
    "start_time": "2025-04-16T22:24:18.455Z"
   },
   {
    "duration": 12,
    "start_time": "2025-04-16T22:24:19.379Z"
   },
   {
    "duration": 26,
    "start_time": "2025-04-16T22:24:20.043Z"
   },
   {
    "duration": 5,
    "start_time": "2025-04-16T22:24:20.706Z"
   },
   {
    "duration": 23,
    "start_time": "2025-04-16T22:24:21.157Z"
   },
   {
    "duration": 16,
    "start_time": "2025-04-16T22:24:21.400Z"
   },
   {
    "duration": 13,
    "start_time": "2025-04-16T22:24:21.601Z"
   },
   {
    "duration": 19,
    "start_time": "2025-04-16T22:24:21.819Z"
   },
   {
    "duration": 13,
    "start_time": "2025-04-16T22:24:22.300Z"
   },
   {
    "duration": 10,
    "start_time": "2025-04-16T22:24:22.546Z"
   },
   {
    "duration": 95,
    "start_time": "2025-04-16T22:24:23.021Z"
   },
   {
    "duration": 68,
    "start_time": "2025-04-16T22:24:58.738Z"
   },
   {
    "duration": 235,
    "start_time": "2025-04-16T22:25:10.992Z"
   },
   {
    "duration": 300,
    "start_time": "2025-04-16T22:25:16.091Z"
   },
   {
    "duration": 11,
    "start_time": "2025-04-16T22:25:19.132Z"
   },
   {
    "duration": 117,
    "start_time": "2025-04-16T22:25:23.407Z"
   },
   {
    "duration": 133,
    "start_time": "2025-04-16T22:25:26.129Z"
   },
   {
    "duration": 442,
    "start_time": "2025-04-16T22:25:29.718Z"
   },
   {
    "duration": 2798,
    "start_time": "2025-04-18T15:48:33.500Z"
   },
   {
    "duration": 253,
    "start_time": "2025-04-18T15:48:36.300Z"
   },
   {
    "duration": 19,
    "start_time": "2025-04-18T15:48:36.555Z"
   },
   {
    "duration": 10,
    "start_time": "2025-04-18T15:48:36.577Z"
   },
   {
    "duration": 17,
    "start_time": "2025-04-18T15:48:36.588Z"
   },
   {
    "duration": 10,
    "start_time": "2025-04-18T15:48:36.625Z"
   },
   {
    "duration": 9,
    "start_time": "2025-04-18T15:48:36.637Z"
   },
   {
    "duration": 6,
    "start_time": "2025-04-18T15:48:36.647Z"
   },
   {
    "duration": 5,
    "start_time": "2025-04-18T15:48:37.344Z"
   },
   {
    "duration": 6,
    "start_time": "2025-04-18T15:48:37.989Z"
   },
   {
    "duration": 12,
    "start_time": "2025-04-18T15:48:38.385Z"
   },
   {
    "duration": 9,
    "start_time": "2025-04-18T15:48:38.570Z"
   },
   {
    "duration": 12,
    "start_time": "2025-04-18T15:48:39.348Z"
   },
   {
    "duration": 19,
    "start_time": "2025-04-18T15:48:39.910Z"
   },
   {
    "duration": 14,
    "start_time": "2025-04-18T15:48:40.273Z"
   },
   {
    "duration": 7,
    "start_time": "2025-04-18T15:48:40.441Z"
   },
   {
    "duration": 11,
    "start_time": "2025-04-18T15:48:41.258Z"
   },
   {
    "duration": 17,
    "start_time": "2025-04-18T15:48:41.937Z"
   },
   {
    "duration": 15,
    "start_time": "2025-04-18T15:48:42.332Z"
   },
   {
    "duration": 10,
    "start_time": "2025-04-18T15:48:42.558Z"
   },
   {
    "duration": 14,
    "start_time": "2025-04-18T15:48:43.375Z"
   },
   {
    "duration": 24,
    "start_time": "2025-04-18T15:48:44.187Z"
   },
   {
    "duration": 5,
    "start_time": "2025-04-18T15:48:44.794Z"
   },
   {
    "duration": 25,
    "start_time": "2025-04-18T15:48:45.221Z"
   },
   {
    "duration": 17,
    "start_time": "2025-04-18T15:48:45.457Z"
   },
   {
    "duration": 13,
    "start_time": "2025-04-18T15:48:45.699Z"
   },
   {
    "duration": 18,
    "start_time": "2025-04-18T15:48:46.070Z"
   },
   {
    "duration": 14,
    "start_time": "2025-04-18T15:48:46.793Z"
   },
   {
    "duration": 11,
    "start_time": "2025-04-18T15:48:47.044Z"
   },
   {
    "duration": 147,
    "start_time": "2025-04-18T15:48:47.580Z"
   },
   {
    "duration": 66,
    "start_time": "2025-04-18T15:48:55.754Z"
   },
   {
    "duration": 226,
    "start_time": "2025-04-18T15:49:03.367Z"
   },
   {
    "duration": 299,
    "start_time": "2025-04-18T15:49:06.290Z"
   },
   {
    "duration": 10,
    "start_time": "2025-04-18T15:49:11.097Z"
   },
   {
    "duration": 169,
    "start_time": "2025-04-18T15:49:14.807Z"
   },
   {
    "duration": 124,
    "start_time": "2025-04-18T15:49:20.792Z"
   },
   {
    "duration": 124,
    "start_time": "2025-04-18T15:49:26.779Z"
   },
   {
    "duration": 135,
    "start_time": "2025-04-18T15:49:30.224Z"
   },
   {
    "duration": 342,
    "start_time": "2025-04-18T15:49:34.230Z"
   },
   {
    "duration": 7,
    "start_time": "2025-04-18T15:49:41.909Z"
   },
   {
    "duration": 9,
    "start_time": "2025-04-18T15:51:16.324Z"
   },
   {
    "duration": 578,
    "start_time": "2025-04-18T15:54:23.761Z"
   },
   {
    "duration": 44,
    "start_time": "2025-04-18T15:55:34.022Z"
   },
   {
    "duration": 116,
    "start_time": "2025-04-18T15:55:38.650Z"
   },
   {
    "duration": 41,
    "start_time": "2025-04-18T15:55:49.402Z"
   },
   {
    "duration": 3,
    "start_time": "2025-04-18T15:55:54.998Z"
   },
   {
    "duration": 3,
    "start_time": "2025-04-18T15:56:29.752Z"
   },
   {
    "duration": 167,
    "start_time": "2025-04-18T15:56:30.660Z"
   },
   {
    "duration": 18,
    "start_time": "2025-04-18T15:56:32.504Z"
   },
   {
    "duration": 9,
    "start_time": "2025-04-18T15:56:32.946Z"
   },
   {
    "duration": 17,
    "start_time": "2025-04-18T15:56:34.852Z"
   },
   {
    "duration": 9,
    "start_time": "2025-04-18T15:56:36.171Z"
   },
   {
    "duration": 9,
    "start_time": "2025-04-18T15:56:37.058Z"
   },
   {
    "duration": 6,
    "start_time": "2025-04-18T15:56:37.510Z"
   },
   {
    "duration": 6,
    "start_time": "2025-04-18T15:56:39.462Z"
   },
   {
    "duration": 5,
    "start_time": "2025-04-18T15:56:40.716Z"
   },
   {
    "duration": 12,
    "start_time": "2025-04-18T15:56:41.538Z"
   },
   {
    "duration": 7,
    "start_time": "2025-04-18T15:56:41.931Z"
   },
   {
    "duration": 12,
    "start_time": "2025-04-18T15:56:43.881Z"
   },
   {
    "duration": 21,
    "start_time": "2025-04-18T15:56:45.182Z"
   },
   {
    "duration": 14,
    "start_time": "2025-04-18T15:56:46.076Z"
   },
   {
    "duration": 6,
    "start_time": "2025-04-18T15:56:46.540Z"
   },
   {
    "duration": 11,
    "start_time": "2025-04-18T15:56:48.361Z"
   },
   {
    "duration": 18,
    "start_time": "2025-04-18T15:56:49.664Z"
   },
   {
    "duration": 14,
    "start_time": "2025-04-18T15:56:50.498Z"
   },
   {
    "duration": 7,
    "start_time": "2025-04-18T15:56:50.894Z"
   },
   {
    "duration": 12,
    "start_time": "2025-04-18T15:56:52.556Z"
   },
   {
    "duration": 24,
    "start_time": "2025-04-18T15:56:53.748Z"
   },
   {
    "duration": 6,
    "start_time": "2025-04-18T15:56:54.948Z"
   },
   {
    "duration": 21,
    "start_time": "2025-04-18T15:56:55.814Z"
   },
   {
    "duration": 14,
    "start_time": "2025-04-18T15:56:56.277Z"
   },
   {
    "duration": 12,
    "start_time": "2025-04-18T15:56:56.730Z"
   },
   {
    "duration": 17,
    "start_time": "2025-04-18T15:56:57.272Z"
   },
   {
    "duration": 13,
    "start_time": "2025-04-18T15:56:58.289Z"
   },
   {
    "duration": 11,
    "start_time": "2025-04-18T15:56:58.959Z"
   },
   {
    "duration": 28,
    "start_time": "2025-04-18T15:57:00.738Z"
   },
   {
    "duration": 213,
    "start_time": "2025-04-18T15:57:04.194Z"
   },
   {
    "duration": 299,
    "start_time": "2025-04-18T15:57:04.755Z"
   },
   {
    "duration": 12,
    "start_time": "2025-04-18T15:57:09.018Z"
   },
   {
    "duration": 123,
    "start_time": "2025-04-18T15:57:10.784Z"
   },
   {
    "duration": 121,
    "start_time": "2025-04-18T15:57:13.232Z"
   },
   {
    "duration": 133,
    "start_time": "2025-04-18T15:57:13.846Z"
   },
   {
    "duration": 124,
    "start_time": "2025-04-18T15:57:17.703Z"
   },
   {
    "duration": 160,
    "start_time": "2025-04-18T15:57:23.560Z"
   },
   {
    "duration": 45,
    "start_time": "2025-04-18T15:57:29.646Z"
   },
   {
    "duration": 134,
    "start_time": "2025-04-18T15:57:39.804Z"
   },
   {
    "duration": 44,
    "start_time": "2025-04-18T15:57:43.997Z"
   },
   {
    "duration": 44,
    "start_time": "2025-04-18T16:22:45.095Z"
   },
   {
    "duration": 56,
    "start_time": "2025-04-18T16:25:37.846Z"
   },
   {
    "duration": 46,
    "start_time": "2025-04-18T16:25:47.858Z"
   },
   {
    "duration": 3,
    "start_time": "2025-04-18T16:26:02.814Z"
   },
   {
    "duration": 159,
    "start_time": "2025-04-18T16:26:03.513Z"
   },
   {
    "duration": 17,
    "start_time": "2025-04-18T16:26:04.008Z"
   },
   {
    "duration": 7,
    "start_time": "2025-04-18T16:26:04.113Z"
   },
   {
    "duration": 16,
    "start_time": "2025-04-18T16:26:04.812Z"
   },
   {
    "duration": 8,
    "start_time": "2025-04-18T16:26:05.394Z"
   },
   {
    "duration": 10,
    "start_time": "2025-04-18T16:26:05.964Z"
   },
   {
    "duration": 6,
    "start_time": "2025-04-18T16:26:06.141Z"
   },
   {
    "duration": 5,
    "start_time": "2025-04-18T16:26:06.969Z"
   },
   {
    "duration": 5,
    "start_time": "2025-04-18T16:26:08.152Z"
   },
   {
    "duration": 12,
    "start_time": "2025-04-18T16:26:08.585Z"
   },
   {
    "duration": 8,
    "start_time": "2025-04-18T16:26:08.806Z"
   },
   {
    "duration": 11,
    "start_time": "2025-04-18T16:26:09.846Z"
   },
   {
    "duration": 17,
    "start_time": "2025-04-18T16:26:10.464Z"
   },
   {
    "duration": 12,
    "start_time": "2025-04-18T16:26:10.996Z"
   },
   {
    "duration": 7,
    "start_time": "2025-04-18T16:26:11.232Z"
   },
   {
    "duration": 11,
    "start_time": "2025-04-18T16:26:12.148Z"
   },
   {
    "duration": 18,
    "start_time": "2025-04-18T16:26:12.799Z"
   },
   {
    "duration": 14,
    "start_time": "2025-04-18T16:26:13.251Z"
   },
   {
    "duration": 7,
    "start_time": "2025-04-18T16:26:13.458Z"
   },
   {
    "duration": 20,
    "start_time": "2025-04-18T16:26:14.324Z"
   },
   {
    "duration": 24,
    "start_time": "2025-04-18T16:26:15.053Z"
   },
   {
    "duration": 6,
    "start_time": "2025-04-18T16:26:15.791Z"
   },
   {
    "duration": 21,
    "start_time": "2025-04-18T16:26:16.255Z"
   },
   {
    "duration": 16,
    "start_time": "2025-04-18T16:26:16.490Z"
   },
   {
    "duration": 11,
    "start_time": "2025-04-18T16:26:16.727Z"
   },
   {
    "duration": 18,
    "start_time": "2025-04-18T16:26:16.973Z"
   },
   {
    "duration": 13,
    "start_time": "2025-04-18T16:26:21.483Z"
   },
   {
    "duration": 12,
    "start_time": "2025-04-18T16:26:23.402Z"
   },
   {
    "duration": 127,
    "start_time": "2025-04-18T16:26:24.003Z"
   },
   {
    "duration": 69,
    "start_time": "2025-04-18T16:26:30.209Z"
   },
   {
    "duration": 213,
    "start_time": "2025-04-18T16:26:33.583Z"
   },
   {
    "duration": 291,
    "start_time": "2025-04-18T16:26:34.361Z"
   },
   {
    "duration": 12,
    "start_time": "2025-04-18T16:26:36.301Z"
   },
   {
    "duration": 122,
    "start_time": "2025-04-18T16:26:37.011Z"
   },
   {
    "duration": 116,
    "start_time": "2025-04-18T16:26:38.487Z"
   },
   {
    "duration": 124,
    "start_time": "2025-04-18T16:26:38.921Z"
   },
   {
    "duration": 122,
    "start_time": "2025-04-18T16:26:40.781Z"
   },
   {
    "duration": 339,
    "start_time": "2025-04-18T16:26:43.371Z"
   },
   {
    "duration": 7,
    "start_time": "2025-04-18T16:26:46.413Z"
   },
   {
    "duration": 14,
    "start_time": "2025-04-18T16:26:49.780Z"
   },
   {
    "duration": 12,
    "start_time": "2025-04-18T16:30:44.021Z"
   },
   {
    "duration": 5,
    "start_time": "2025-04-18T16:31:27.039Z"
   },
   {
    "duration": 6,
    "start_time": "2025-04-18T16:32:28.676Z"
   },
   {
    "duration": 8,
    "start_time": "2025-04-18T16:33:10.836Z"
   },
   {
    "duration": 4,
    "start_time": "2025-04-18T16:33:33.088Z"
   },
   {
    "duration": 4,
    "start_time": "2025-04-18T16:33:48.167Z"
   },
   {
    "duration": 4,
    "start_time": "2025-04-18T16:34:11.354Z"
   },
   {
    "duration": 6,
    "start_time": "2025-04-18T16:34:32.408Z"
   },
   {
    "duration": 8,
    "start_time": "2025-04-18T16:34:40.434Z"
   },
   {
    "duration": 9,
    "start_time": "2025-04-18T16:35:05.921Z"
   },
   {
    "duration": 8,
    "start_time": "2025-04-18T16:35:18.238Z"
   },
   {
    "duration": 3132,
    "start_time": "2025-04-18T23:00:01.622Z"
   },
   {
    "duration": 254,
    "start_time": "2025-04-18T23:00:04.757Z"
   },
   {
    "duration": 16,
    "start_time": "2025-04-18T23:00:05.014Z"
   },
   {
    "duration": 17,
    "start_time": "2025-04-18T23:00:05.033Z"
   },
   {
    "duration": 26,
    "start_time": "2025-04-18T23:00:05.053Z"
   },
   {
    "duration": 9,
    "start_time": "2025-04-18T23:00:05.081Z"
   },
   {
    "duration": 9,
    "start_time": "2025-04-18T23:00:05.092Z"
   },
   {
    "duration": 29,
    "start_time": "2025-04-18T23:00:05.103Z"
   },
   {
    "duration": 6,
    "start_time": "2025-04-18T23:00:05.135Z"
   },
   {
    "duration": 11,
    "start_time": "2025-04-18T23:00:05.144Z"
   },
   {
    "duration": 19,
    "start_time": "2025-04-18T23:00:05.158Z"
   },
   {
    "duration": 6,
    "start_time": "2025-04-18T23:00:05.179Z"
   },
   {
    "duration": 10,
    "start_time": "2025-04-18T23:00:05.187Z"
   },
   {
    "duration": 44,
    "start_time": "2025-04-18T23:00:05.199Z"
   },
   {
    "duration": 20,
    "start_time": "2025-04-18T23:00:05.245Z"
   },
   {
    "duration": 10,
    "start_time": "2025-04-18T23:00:05.266Z"
   },
   {
    "duration": 11,
    "start_time": "2025-04-18T23:00:05.279Z"
   },
   {
    "duration": 18,
    "start_time": "2025-04-18T23:00:05.292Z"
   },
   {
    "duration": 41,
    "start_time": "2025-04-18T23:00:05.311Z"
   },
   {
    "duration": 11,
    "start_time": "2025-04-18T23:00:05.354Z"
   },
   {
    "duration": 19,
    "start_time": "2025-04-18T23:00:05.367Z"
   },
   {
    "duration": 24,
    "start_time": "2025-04-18T23:00:05.388Z"
   },
   {
    "duration": 20,
    "start_time": "2025-04-18T23:00:05.414Z"
   },
   {
    "duration": 34,
    "start_time": "2025-04-18T23:00:05.436Z"
   },
   {
    "duration": 18,
    "start_time": "2025-04-18T23:00:05.472Z"
   },
   {
    "duration": 13,
    "start_time": "2025-04-18T23:00:05.492Z"
   },
   {
    "duration": 26,
    "start_time": "2025-04-18T23:00:05.534Z"
   },
   {
    "duration": 18,
    "start_time": "2025-04-18T23:00:05.566Z"
   },
   {
    "duration": 9,
    "start_time": "2025-04-18T23:00:05.586Z"
   },
   {
    "duration": 194,
    "start_time": "2025-04-18T23:00:05.597Z"
   },
   {
    "duration": 0,
    "start_time": "2025-04-18T23:00:05.792Z"
   },
   {
    "duration": 0,
    "start_time": "2025-04-18T23:00:05.793Z"
   },
   {
    "duration": 0,
    "start_time": "2025-04-18T23:00:05.794Z"
   },
   {
    "duration": 0,
    "start_time": "2025-04-18T23:00:05.796Z"
   },
   {
    "duration": 0,
    "start_time": "2025-04-18T23:00:05.798Z"
   },
   {
    "duration": 0,
    "start_time": "2025-04-18T23:00:05.799Z"
   },
   {
    "duration": 0,
    "start_time": "2025-04-18T23:00:05.801Z"
   },
   {
    "duration": 0,
    "start_time": "2025-04-18T23:00:05.803Z"
   },
   {
    "duration": 0,
    "start_time": "2025-04-18T23:00:05.804Z"
   },
   {
    "duration": 0,
    "start_time": "2025-04-18T23:00:05.807Z"
   },
   {
    "duration": 12,
    "start_time": "2025-04-18T23:00:24.740Z"
   },
   {
    "duration": 24,
    "start_time": "2025-04-18T23:00:49.173Z"
   },
   {
    "duration": 13,
    "start_time": "2025-04-18T23:01:00.349Z"
   },
   {
    "duration": 12,
    "start_time": "2025-04-18T23:01:17.796Z"
   },
   {
    "duration": 170,
    "start_time": "2025-04-18T23:01:49.436Z"
   },
   {
    "duration": 38,
    "start_time": "2025-04-18T23:01:57.640Z"
   },
   {
    "duration": 4,
    "start_time": "2025-04-18T23:02:21.092Z"
   },
   {
    "duration": 18,
    "start_time": "2025-04-18T23:02:24.562Z"
   },
   {
    "duration": 8,
    "start_time": "2025-04-18T23:02:33.940Z"
   },
   {
    "duration": 19,
    "start_time": "2025-04-18T23:02:45.090Z"
   },
   {
    "duration": 846,
    "start_time": "2025-04-18T23:02:52.903Z"
   },
   {
    "duration": 159,
    "start_time": "2025-04-18T23:02:53.751Z"
   },
   {
    "duration": 22,
    "start_time": "2025-04-18T23:02:53.911Z"
   },
   {
    "duration": 9,
    "start_time": "2025-04-18T23:02:53.936Z"
   },
   {
    "duration": 18,
    "start_time": "2025-04-18T23:02:53.946Z"
   },
   {
    "duration": 10,
    "start_time": "2025-04-18T23:02:53.966Z"
   },
   {
    "duration": 10,
    "start_time": "2025-04-18T23:02:53.977Z"
   },
   {
    "duration": 5,
    "start_time": "2025-04-18T23:02:53.989Z"
   },
   {
    "duration": 37,
    "start_time": "2025-04-18T23:02:53.996Z"
   },
   {
    "duration": 5,
    "start_time": "2025-04-18T23:02:54.038Z"
   },
   {
    "duration": 14,
    "start_time": "2025-04-18T23:02:54.044Z"
   },
   {
    "duration": 8,
    "start_time": "2025-04-18T23:02:54.061Z"
   },
   {
    "duration": 12,
    "start_time": "2025-04-18T23:02:54.074Z"
   },
   {
    "duration": 16,
    "start_time": "2025-04-18T23:02:54.088Z"
   },
   {
    "duration": 45,
    "start_time": "2025-04-18T23:02:54.106Z"
   },
   {
    "duration": 8,
    "start_time": "2025-04-18T23:02:54.153Z"
   },
   {
    "duration": 14,
    "start_time": "2025-04-18T23:02:54.163Z"
   },
   {
    "duration": 18,
    "start_time": "2025-04-18T23:02:54.179Z"
   },
   {
    "duration": 34,
    "start_time": "2025-04-18T23:02:54.199Z"
   },
   {
    "duration": 8,
    "start_time": "2025-04-18T23:02:54.235Z"
   },
   {
    "duration": 24,
    "start_time": "2025-04-18T23:02:54.244Z"
   },
   {
    "duration": 27,
    "start_time": "2025-04-18T23:02:54.272Z"
   },
   {
    "duration": 6,
    "start_time": "2025-04-18T23:02:54.301Z"
   },
   {
    "duration": 51,
    "start_time": "2025-04-18T23:02:54.309Z"
   },
   {
    "duration": 24,
    "start_time": "2025-04-18T23:02:54.362Z"
   },
   {
    "duration": 12,
    "start_time": "2025-04-18T23:02:54.387Z"
   },
   {
    "duration": 30,
    "start_time": "2025-04-18T23:02:54.401Z"
   },
   {
    "duration": 22,
    "start_time": "2025-04-18T23:02:54.437Z"
   },
   {
    "duration": 16,
    "start_time": "2025-04-18T23:02:54.461Z"
   },
   {
    "duration": 13,
    "start_time": "2025-04-18T23:02:54.479Z"
   },
   {
    "duration": 210,
    "start_time": "2025-04-18T23:02:54.494Z"
   },
   {
    "duration": 1,
    "start_time": "2025-04-18T23:02:54.706Z"
   },
   {
    "duration": 0,
    "start_time": "2025-04-18T23:02:54.708Z"
   },
   {
    "duration": 0,
    "start_time": "2025-04-18T23:02:54.709Z"
   },
   {
    "duration": 0,
    "start_time": "2025-04-18T23:02:54.711Z"
   },
   {
    "duration": 0,
    "start_time": "2025-04-18T23:02:54.712Z"
   },
   {
    "duration": 0,
    "start_time": "2025-04-18T23:02:54.714Z"
   },
   {
    "duration": 0,
    "start_time": "2025-04-18T23:02:54.715Z"
   },
   {
    "duration": 0,
    "start_time": "2025-04-18T23:02:54.716Z"
   },
   {
    "duration": 0,
    "start_time": "2025-04-18T23:02:54.717Z"
   },
   {
    "duration": 0,
    "start_time": "2025-04-18T23:02:54.718Z"
   },
   {
    "duration": 16,
    "start_time": "2025-04-18T23:03:13.720Z"
   },
   {
    "duration": 192,
    "start_time": "2025-04-18T23:03:24.003Z"
   },
   {
    "duration": 876,
    "start_time": "2025-04-18T23:03:30.230Z"
   },
   {
    "duration": 176,
    "start_time": "2025-04-18T23:03:31.108Z"
   },
   {
    "duration": 17,
    "start_time": "2025-04-18T23:03:31.286Z"
   },
   {
    "duration": 7,
    "start_time": "2025-04-18T23:03:31.306Z"
   },
   {
    "duration": 27,
    "start_time": "2025-04-18T23:03:31.315Z"
   },
   {
    "duration": 11,
    "start_time": "2025-04-18T23:03:31.344Z"
   },
   {
    "duration": 12,
    "start_time": "2025-04-18T23:03:31.357Z"
   },
   {
    "duration": 7,
    "start_time": "2025-04-18T23:03:31.372Z"
   },
   {
    "duration": 5,
    "start_time": "2025-04-18T23:03:31.380Z"
   },
   {
    "duration": 5,
    "start_time": "2025-04-18T23:03:31.388Z"
   },
   {
    "duration": 46,
    "start_time": "2025-04-18T23:03:31.394Z"
   },
   {
    "duration": 8,
    "start_time": "2025-04-18T23:03:31.442Z"
   },
   {
    "duration": 12,
    "start_time": "2025-04-18T23:03:31.452Z"
   },
   {
    "duration": 19,
    "start_time": "2025-04-18T23:03:31.467Z"
   },
   {
    "duration": 13,
    "start_time": "2025-04-18T23:03:31.487Z"
   },
   {
    "duration": 5,
    "start_time": "2025-04-18T23:03:31.502Z"
   },
   {
    "duration": 15,
    "start_time": "2025-04-18T23:03:31.532Z"
   },
   {
    "duration": 25,
    "start_time": "2025-04-18T23:03:31.550Z"
   },
   {
    "duration": 14,
    "start_time": "2025-04-18T23:03:31.577Z"
   },
   {
    "duration": 7,
    "start_time": "2025-04-18T23:03:31.593Z"
   },
   {
    "duration": 46,
    "start_time": "2025-04-18T23:03:31.602Z"
   },
   {
    "duration": 27,
    "start_time": "2025-04-18T23:03:31.651Z"
   },
   {
    "duration": 6,
    "start_time": "2025-04-18T23:03:31.680Z"
   },
   {
    "duration": 44,
    "start_time": "2025-04-18T23:03:31.688Z"
   },
   {
    "duration": 21,
    "start_time": "2025-04-18T23:03:31.734Z"
   },
   {
    "duration": 17,
    "start_time": "2025-04-18T23:03:31.759Z"
   },
   {
    "duration": 18,
    "start_time": "2025-04-18T23:03:31.780Z"
   },
   {
    "duration": 12,
    "start_time": "2025-04-18T23:03:31.802Z"
   },
   {
    "duration": 11,
    "start_time": "2025-04-18T23:03:31.830Z"
   },
   {
    "duration": 72,
    "start_time": "2025-04-18T23:03:31.845Z"
   },
   {
    "duration": 318,
    "start_time": "2025-04-18T23:03:31.919Z"
   },
   {
    "duration": 371,
    "start_time": "2025-04-18T23:03:32.240Z"
   },
   {
    "duration": 12,
    "start_time": "2025-04-18T23:03:32.613Z"
   },
   {
    "duration": 158,
    "start_time": "2025-04-18T23:03:32.626Z"
   },
   {
    "duration": 145,
    "start_time": "2025-04-18T23:03:32.786Z"
   },
   {
    "duration": 164,
    "start_time": "2025-04-18T23:03:32.933Z"
   },
   {
    "duration": 156,
    "start_time": "2025-04-18T23:03:33.100Z"
   },
   {
    "duration": 432,
    "start_time": "2025-04-18T23:03:33.258Z"
   },
   {
    "duration": 10,
    "start_time": "2025-04-18T23:03:33.691Z"
   },
   {
    "duration": 13,
    "start_time": "2025-04-18T23:03:33.702Z"
   }
  ],
  "colab": {
   "provenance": []
  },
  "kernelspec": {
   "display_name": "Python 3 (ipykernel)",
   "language": "python",
   "name": "python3"
  },
  "language_info": {
   "codemirror_mode": {
    "name": "ipython",
    "version": 3
   },
   "file_extension": ".py",
   "mimetype": "text/x-python",
   "name": "python",
   "nbconvert_exporter": "python",
   "pygments_lexer": "ipython3",
   "version": "3.9.19"
  },
  "toc": {
   "base_numbering": 1,
   "nav_menu": {},
   "number_sections": true,
   "sideBar": true,
   "skip_h1_title": false,
   "title_cell": "Table of Contents",
   "title_sidebar": "Contents",
   "toc_cell": false,
   "toc_position": {
    "height": "calc(100% - 180px)",
    "left": "10px",
    "top": "150px",
    "width": "165px"
   },
   "toc_section_display": true,
   "toc_window_display": true
  }
 },
 "nbformat": 4,
 "nbformat_minor": 1
}
